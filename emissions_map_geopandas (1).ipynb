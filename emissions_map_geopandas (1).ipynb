{
  "nbformat": 4,
  "nbformat_minor": 0,
  "metadata": {
    "colab": {
      "name": "emissions_map_geopandas.ipynb",
      "provenance": [],
      "collapsed_sections": []
    },
    "kernelspec": {
      "name": "python3",
      "display_name": "Python 3"
    },
    "language_info": {
      "name": "python"
    }
  },
  "cells": [
    {
      "cell_type": "code",
      "execution_count": null,
      "metadata": {
        "id": "pBv99pLi3xoi",
        "colab": {
          "base_uri": "https://localhost:8080/"
        },
        "outputId": "98ca607c-cc5e-413e-a84d-39ee6882248a"
      },
      "outputs": [
        {
          "output_type": "stream",
          "name": "stdout",
          "text": [
            "Collecting geopandas\n",
            "  Downloading geopandas-0.10.2-py2.py3-none-any.whl (1.0 MB)\n",
            "\u001b[K     |████████████████████████████████| 1.0 MB 5.5 MB/s \n",
            "\u001b[?25hCollecting fiona>=1.8\n",
            "  Downloading Fiona-1.8.21-cp37-cp37m-manylinux2014_x86_64.whl (16.7 MB)\n",
            "\u001b[K     |████████████████████████████████| 16.7 MB 221 kB/s \n",
            "\u001b[?25hCollecting pyproj>=2.2.0\n",
            "  Downloading pyproj-3.2.1-cp37-cp37m-manylinux2010_x86_64.whl (6.3 MB)\n",
            "\u001b[K     |████████████████████████████████| 6.3 MB 42.3 MB/s \n",
            "\u001b[?25hRequirement already satisfied: shapely>=1.6 in /usr/local/lib/python3.7/dist-packages (from geopandas) (1.8.1.post1)\n",
            "Requirement already satisfied: pandas>=0.25.0 in /usr/local/lib/python3.7/dist-packages (from geopandas) (1.3.5)\n",
            "Requirement already satisfied: setuptools in /usr/local/lib/python3.7/dist-packages (from fiona>=1.8->geopandas) (57.4.0)\n",
            "Collecting munch\n",
            "  Downloading munch-2.5.0-py2.py3-none-any.whl (10 kB)\n",
            "Requirement already satisfied: attrs>=17 in /usr/local/lib/python3.7/dist-packages (from fiona>=1.8->geopandas) (21.4.0)\n",
            "Collecting click-plugins>=1.0\n",
            "  Downloading click_plugins-1.1.1-py2.py3-none-any.whl (7.5 kB)\n",
            "Requirement already satisfied: click>=4.0 in /usr/local/lib/python3.7/dist-packages (from fiona>=1.8->geopandas) (7.1.2)\n",
            "Collecting cligj>=0.5\n",
            "  Downloading cligj-0.7.2-py3-none-any.whl (7.1 kB)\n",
            "Requirement already satisfied: certifi in /usr/local/lib/python3.7/dist-packages (from fiona>=1.8->geopandas) (2021.10.8)\n",
            "Requirement already satisfied: six>=1.7 in /usr/local/lib/python3.7/dist-packages (from fiona>=1.8->geopandas) (1.15.0)\n",
            "Requirement already satisfied: pytz>=2017.3 in /usr/local/lib/python3.7/dist-packages (from pandas>=0.25.0->geopandas) (2022.1)\n",
            "Requirement already satisfied: python-dateutil>=2.7.3 in /usr/local/lib/python3.7/dist-packages (from pandas>=0.25.0->geopandas) (2.8.2)\n",
            "Requirement already satisfied: numpy>=1.17.3 in /usr/local/lib/python3.7/dist-packages (from pandas>=0.25.0->geopandas) (1.21.6)\n",
            "Installing collected packages: munch, cligj, click-plugins, pyproj, fiona, geopandas\n",
            "Successfully installed click-plugins-1.1.1 cligj-0.7.2 fiona-1.8.21 geopandas-0.10.2 munch-2.5.0 pyproj-3.2.1\n"
          ]
        }
      ],
      "source": [
        "import pandas as pd\n",
        "import numpy as np\n",
        "import matplotlib.pyplot as plt\n",
        "import seaborn as sns\n",
        "!pip install geopandas\n",
        "import geopandas as gpd\n",
        "import os\n"
      ]
    },
    {
      "cell_type": "code",
      "source": [
        "from google.colab import files\n",
        "uploaded = files.upload()\n"
      ],
      "metadata": {
        "id": "Udoi9pin49QE",
        "colab": {
          "resources": {
            "http://localhost:8080/nbextensions/google.colab/files.js": {
              "data": "Ly8gQ29weXJpZ2h0IDIwMTcgR29vZ2xlIExMQwovLwovLyBMaWNlbnNlZCB1bmRlciB0aGUgQXBhY2hlIExpY2Vuc2UsIFZlcnNpb24gMi4wICh0aGUgIkxpY2Vuc2UiKTsKLy8geW91IG1heSBub3QgdXNlIHRoaXMgZmlsZSBleGNlcHQgaW4gY29tcGxpYW5jZSB3aXRoIHRoZSBMaWNlbnNlLgovLyBZb3UgbWF5IG9idGFpbiBhIGNvcHkgb2YgdGhlIExpY2Vuc2UgYXQKLy8KLy8gICAgICBodHRwOi8vd3d3LmFwYWNoZS5vcmcvbGljZW5zZXMvTElDRU5TRS0yLjAKLy8KLy8gVW5sZXNzIHJlcXVpcmVkIGJ5IGFwcGxpY2FibGUgbGF3IG9yIGFncmVlZCB0byBpbiB3cml0aW5nLCBzb2Z0d2FyZQovLyBkaXN0cmlidXRlZCB1bmRlciB0aGUgTGljZW5zZSBpcyBkaXN0cmlidXRlZCBvbiBhbiAiQVMgSVMiIEJBU0lTLAovLyBXSVRIT1VUIFdBUlJBTlRJRVMgT1IgQ09ORElUSU9OUyBPRiBBTlkgS0lORCwgZWl0aGVyIGV4cHJlc3Mgb3IgaW1wbGllZC4KLy8gU2VlIHRoZSBMaWNlbnNlIGZvciB0aGUgc3BlY2lmaWMgbGFuZ3VhZ2UgZ292ZXJuaW5nIHBlcm1pc3Npb25zIGFuZAovLyBsaW1pdGF0aW9ucyB1bmRlciB0aGUgTGljZW5zZS4KCi8qKgogKiBAZmlsZW92ZXJ2aWV3IEhlbHBlcnMgZm9yIGdvb2dsZS5jb2xhYiBQeXRob24gbW9kdWxlLgogKi8KKGZ1bmN0aW9uKHNjb3BlKSB7CmZ1bmN0aW9uIHNwYW4odGV4dCwgc3R5bGVBdHRyaWJ1dGVzID0ge30pIHsKICBjb25zdCBlbGVtZW50ID0gZG9jdW1lbnQuY3JlYXRlRWxlbWVudCgnc3BhbicpOwogIGVsZW1lbnQudGV4dENvbnRlbnQgPSB0ZXh0OwogIGZvciAoY29uc3Qga2V5IG9mIE9iamVjdC5rZXlzKHN0eWxlQXR0cmlidXRlcykpIHsKICAgIGVsZW1lbnQuc3R5bGVba2V5XSA9IHN0eWxlQXR0cmlidXRlc1trZXldOwogIH0KICByZXR1cm4gZWxlbWVudDsKfQoKLy8gTWF4IG51bWJlciBvZiBieXRlcyB3aGljaCB3aWxsIGJlIHVwbG9hZGVkIGF0IGEgdGltZS4KY29uc3QgTUFYX1BBWUxPQURfU0laRSA9IDEwMCAqIDEwMjQ7CgpmdW5jdGlvbiBfdXBsb2FkRmlsZXMoaW5wdXRJZCwgb3V0cHV0SWQpIHsKICBjb25zdCBzdGVwcyA9IHVwbG9hZEZpbGVzU3RlcChpbnB1dElkLCBvdXRwdXRJZCk7CiAgY29uc3Qgb3V0cHV0RWxlbWVudCA9IGRvY3VtZW50LmdldEVsZW1lbnRCeUlkKG91dHB1dElkKTsKICAvLyBDYWNoZSBzdGVwcyBvbiB0aGUgb3V0cHV0RWxlbWVudCB0byBtYWtlIGl0IGF2YWlsYWJsZSBmb3IgdGhlIG5leHQgY2FsbAogIC8vIHRvIHVwbG9hZEZpbGVzQ29udGludWUgZnJvbSBQeXRob24uCiAgb3V0cHV0RWxlbWVudC5zdGVwcyA9IHN0ZXBzOwoKICByZXR1cm4gX3VwbG9hZEZpbGVzQ29udGludWUob3V0cHV0SWQpOwp9CgovLyBUaGlzIGlzIHJvdWdobHkgYW4gYXN5bmMgZ2VuZXJhdG9yIChub3Qgc3VwcG9ydGVkIGluIHRoZSBicm93c2VyIHlldCksCi8vIHdoZXJlIHRoZXJlIGFyZSBtdWx0aXBsZSBhc3luY2hyb25vdXMgc3RlcHMgYW5kIHRoZSBQeXRob24gc2lkZSBpcyBnb2luZwovLyB0byBwb2xsIGZvciBjb21wbGV0aW9uIG9mIGVhY2ggc3RlcC4KLy8gVGhpcyB1c2VzIGEgUHJvbWlzZSB0byBibG9jayB0aGUgcHl0aG9uIHNpZGUgb24gY29tcGxldGlvbiBvZiBlYWNoIHN0ZXAsCi8vIHRoZW4gcGFzc2VzIHRoZSByZXN1bHQgb2YgdGhlIHByZXZpb3VzIHN0ZXAgYXMgdGhlIGlucHV0IHRvIHRoZSBuZXh0IHN0ZXAuCmZ1bmN0aW9uIF91cGxvYWRGaWxlc0NvbnRpbnVlKG91dHB1dElkKSB7CiAgY29uc3Qgb3V0cHV0RWxlbWVudCA9IGRvY3VtZW50LmdldEVsZW1lbnRCeUlkKG91dHB1dElkKTsKICBjb25zdCBzdGVwcyA9IG91dHB1dEVsZW1lbnQuc3RlcHM7CgogIGNvbnN0IG5leHQgPSBzdGVwcy5uZXh0KG91dHB1dEVsZW1lbnQubGFzdFByb21pc2VWYWx1ZSk7CiAgcmV0dXJuIFByb21pc2UucmVzb2x2ZShuZXh0LnZhbHVlLnByb21pc2UpLnRoZW4oKHZhbHVlKSA9PiB7CiAgICAvLyBDYWNoZSB0aGUgbGFzdCBwcm9taXNlIHZhbHVlIHRvIG1ha2UgaXQgYXZhaWxhYmxlIHRvIHRoZSBuZXh0CiAgICAvLyBzdGVwIG9mIHRoZSBnZW5lcmF0b3IuCiAgICBvdXRwdXRFbGVtZW50Lmxhc3RQcm9taXNlVmFsdWUgPSB2YWx1ZTsKICAgIHJldHVybiBuZXh0LnZhbHVlLnJlc3BvbnNlOwogIH0pOwp9CgovKioKICogR2VuZXJhdG9yIGZ1bmN0aW9uIHdoaWNoIGlzIGNhbGxlZCBiZXR3ZWVuIGVhY2ggYXN5bmMgc3RlcCBvZiB0aGUgdXBsb2FkCiAqIHByb2Nlc3MuCiAqIEBwYXJhbSB7c3RyaW5nfSBpbnB1dElkIEVsZW1lbnQgSUQgb2YgdGhlIGlucHV0IGZpbGUgcGlja2VyIGVsZW1lbnQuCiAqIEBwYXJhbSB7c3RyaW5nfSBvdXRwdXRJZCBFbGVtZW50IElEIG9mIHRoZSBvdXRwdXQgZGlzcGxheS4KICogQHJldHVybiB7IUl0ZXJhYmxlPCFPYmplY3Q+fSBJdGVyYWJsZSBvZiBuZXh0IHN0ZXBzLgogKi8KZnVuY3Rpb24qIHVwbG9hZEZpbGVzU3RlcChpbnB1dElkLCBvdXRwdXRJZCkgewogIGNvbnN0IGlucHV0RWxlbWVudCA9IGRvY3VtZW50LmdldEVsZW1lbnRCeUlkKGlucHV0SWQpOwogIGlucHV0RWxlbWVudC5kaXNhYmxlZCA9IGZhbHNlOwoKICBjb25zdCBvdXRwdXRFbGVtZW50ID0gZG9jdW1lbnQuZ2V0RWxlbWVudEJ5SWQob3V0cHV0SWQpOwogIG91dHB1dEVsZW1lbnQuaW5uZXJIVE1MID0gJyc7CgogIGNvbnN0IHBpY2tlZFByb21pc2UgPSBuZXcgUHJvbWlzZSgocmVzb2x2ZSkgPT4gewogICAgaW5wdXRFbGVtZW50LmFkZEV2ZW50TGlzdGVuZXIoJ2NoYW5nZScsIChlKSA9PiB7CiAgICAgIHJlc29sdmUoZS50YXJnZXQuZmlsZXMpOwogICAgfSk7CiAgfSk7CgogIGNvbnN0IGNhbmNlbCA9IGRvY3VtZW50LmNyZWF0ZUVsZW1lbnQoJ2J1dHRvbicpOwogIGlucHV0RWxlbWVudC5wYXJlbnRFbGVtZW50LmFwcGVuZENoaWxkKGNhbmNlbCk7CiAgY2FuY2VsLnRleHRDb250ZW50ID0gJ0NhbmNlbCB1cGxvYWQnOwogIGNvbnN0IGNhbmNlbFByb21pc2UgPSBuZXcgUHJvbWlzZSgocmVzb2x2ZSkgPT4gewogICAgY2FuY2VsLm9uY2xpY2sgPSAoKSA9PiB7CiAgICAgIHJlc29sdmUobnVsbCk7CiAgICB9OwogIH0pOwoKICAvLyBXYWl0IGZvciB0aGUgdXNlciB0byBwaWNrIHRoZSBmaWxlcy4KICBjb25zdCBmaWxlcyA9IHlpZWxkIHsKICAgIHByb21pc2U6IFByb21pc2UucmFjZShbcGlja2VkUHJvbWlzZSwgY2FuY2VsUHJvbWlzZV0pLAogICAgcmVzcG9uc2U6IHsKICAgICAgYWN0aW9uOiAnc3RhcnRpbmcnLAogICAgfQogIH07CgogIGNhbmNlbC5yZW1vdmUoKTsKCiAgLy8gRGlzYWJsZSB0aGUgaW5wdXQgZWxlbWVudCBzaW5jZSBmdXJ0aGVyIHBpY2tzIGFyZSBub3QgYWxsb3dlZC4KICBpbnB1dEVsZW1lbnQuZGlzYWJsZWQgPSB0cnVlOwoKICBpZiAoIWZpbGVzKSB7CiAgICByZXR1cm4gewogICAgICByZXNwb25zZTogewogICAgICAgIGFjdGlvbjogJ2NvbXBsZXRlJywKICAgICAgfQogICAgfTsKICB9CgogIGZvciAoY29uc3QgZmlsZSBvZiBmaWxlcykgewogICAgY29uc3QgbGkgPSBkb2N1bWVudC5jcmVhdGVFbGVtZW50KCdsaScpOwogICAgbGkuYXBwZW5kKHNwYW4oZmlsZS5uYW1lLCB7Zm9udFdlaWdodDogJ2JvbGQnfSkpOwogICAgbGkuYXBwZW5kKHNwYW4oCiAgICAgICAgYCgke2ZpbGUudHlwZSB8fCAnbi9hJ30pIC0gJHtmaWxlLnNpemV9IGJ5dGVzLCBgICsKICAgICAgICBgbGFzdCBtb2RpZmllZDogJHsKICAgICAgICAgICAgZmlsZS5sYXN0TW9kaWZpZWREYXRlID8gZmlsZS5sYXN0TW9kaWZpZWREYXRlLnRvTG9jYWxlRGF0ZVN0cmluZygpIDoKICAgICAgICAgICAgICAgICAgICAgICAgICAgICAgICAgICAgJ24vYSd9IC0gYCkpOwogICAgY29uc3QgcGVyY2VudCA9IHNwYW4oJzAlIGRvbmUnKTsKICAgIGxpLmFwcGVuZENoaWxkKHBlcmNlbnQpOwoKICAgIG91dHB1dEVsZW1lbnQuYXBwZW5kQ2hpbGQobGkpOwoKICAgIGNvbnN0IGZpbGVEYXRhUHJvbWlzZSA9IG5ldyBQcm9taXNlKChyZXNvbHZlKSA9PiB7CiAgICAgIGNvbnN0IHJlYWRlciA9IG5ldyBGaWxlUmVhZGVyKCk7CiAgICAgIHJlYWRlci5vbmxvYWQgPSAoZSkgPT4gewogICAgICAgIHJlc29sdmUoZS50YXJnZXQucmVzdWx0KTsKICAgICAgfTsKICAgICAgcmVhZGVyLnJlYWRBc0FycmF5QnVmZmVyKGZpbGUpOwogICAgfSk7CiAgICAvLyBXYWl0IGZvciB0aGUgZGF0YSB0byBiZSByZWFkeS4KICAgIGxldCBmaWxlRGF0YSA9IHlpZWxkIHsKICAgICAgcHJvbWlzZTogZmlsZURhdGFQcm9taXNlLAogICAgICByZXNwb25zZTogewogICAgICAgIGFjdGlvbjogJ2NvbnRpbnVlJywKICAgICAgfQogICAgfTsKCiAgICAvLyBVc2UgYSBjaHVua2VkIHNlbmRpbmcgdG8gYXZvaWQgbWVzc2FnZSBzaXplIGxpbWl0cy4gU2VlIGIvNjIxMTU2NjAuCiAgICBsZXQgcG9zaXRpb24gPSAwOwogICAgZG8gewogICAgICBjb25zdCBsZW5ndGggPSBNYXRoLm1pbihmaWxlRGF0YS5ieXRlTGVuZ3RoIC0gcG9zaXRpb24sIE1BWF9QQVlMT0FEX1NJWkUpOwogICAgICBjb25zdCBjaHVuayA9IG5ldyBVaW50OEFycmF5KGZpbGVEYXRhLCBwb3NpdGlvbiwgbGVuZ3RoKTsKICAgICAgcG9zaXRpb24gKz0gbGVuZ3RoOwoKICAgICAgY29uc3QgYmFzZTY0ID0gYnRvYShTdHJpbmcuZnJvbUNoYXJDb2RlLmFwcGx5KG51bGwsIGNodW5rKSk7CiAgICAgIHlpZWxkIHsKICAgICAgICByZXNwb25zZTogewogICAgICAgICAgYWN0aW9uOiAnYXBwZW5kJywKICAgICAgICAgIGZpbGU6IGZpbGUubmFtZSwKICAgICAgICAgIGRhdGE6IGJhc2U2NCwKICAgICAgICB9LAogICAgICB9OwoKICAgICAgbGV0IHBlcmNlbnREb25lID0gZmlsZURhdGEuYnl0ZUxlbmd0aCA9PT0gMCA/CiAgICAgICAgICAxMDAgOgogICAgICAgICAgTWF0aC5yb3VuZCgocG9zaXRpb24gLyBmaWxlRGF0YS5ieXRlTGVuZ3RoKSAqIDEwMCk7CiAgICAgIHBlcmNlbnQudGV4dENvbnRlbnQgPSBgJHtwZXJjZW50RG9uZX0lIGRvbmVgOwoKICAgIH0gd2hpbGUgKHBvc2l0aW9uIDwgZmlsZURhdGEuYnl0ZUxlbmd0aCk7CiAgfQoKICAvLyBBbGwgZG9uZS4KICB5aWVsZCB7CiAgICByZXNwb25zZTogewogICAgICBhY3Rpb246ICdjb21wbGV0ZScsCiAgICB9CiAgfTsKfQoKc2NvcGUuZ29vZ2xlID0gc2NvcGUuZ29vZ2xlIHx8IHt9OwpzY29wZS5nb29nbGUuY29sYWIgPSBzY29wZS5nb29nbGUuY29sYWIgfHwge307CnNjb3BlLmdvb2dsZS5jb2xhYi5fZmlsZXMgPSB7CiAgX3VwbG9hZEZpbGVzLAogIF91cGxvYWRGaWxlc0NvbnRpbnVlLAp9Owp9KShzZWxmKTsK",
              "ok": true,
              "headers": [
                [
                  "content-type",
                  "application/javascript"
                ]
              ],
              "status": 200,
              "status_text": ""
            }
          },
          "base_uri": "https://localhost:8080/",
          "height": 316
        },
        "outputId": "09479488-1f65-4b8e-a089-cbdb0806c9a8"
      },
      "execution_count": null,
      "outputs": [
        {
          "output_type": "display_data",
          "data": {
            "text/plain": [
              "<IPython.core.display.HTML object>"
            ],
            "text/html": [
              "\n",
              "     <input type=\"file\" id=\"files-60b103b1-9808-4297-9d3e-0f804ecc3063\" name=\"files[]\" multiple disabled\n",
              "        style=\"border:none\" />\n",
              "     <output id=\"result-60b103b1-9808-4297-9d3e-0f804ecc3063\">\n",
              "      Upload widget is only available when the cell has been executed in the\n",
              "      current browser session. Please rerun this cell to enable.\n",
              "      </output>\n",
              "      <script src=\"/nbextensions/google.colab/files.js\"></script> "
            ]
          },
          "metadata": {}
        },
        {
          "output_type": "stream",
          "name": "stdout",
          "text": [
            "Saving eGRID2020_subregions.cpg to eGRID2020_subregions.cpg\n",
            "Saving eGRID2020_subregions.dbf to eGRID2020_subregions.dbf\n",
            "Saving eGRID2020_subregions.prj to eGRID2020_subregions.prj\n",
            "Saving eGRID2020_subregions.sbn to eGRID2020_subregions.sbn\n",
            "Saving eGRID2020_subregions.sbx to eGRID2020_subregions.sbx\n",
            "Saving eGRID2020_subregions.shp to eGRID2020_subregions.shp\n",
            "Saving eGRID2020_subregions.shp.xml to eGRID2020_subregions.shp.xml\n",
            "Saving eGRID2020_subregions.shx to eGRID2020_subregions.shx\n"
          ]
        }
      ]
    },
    {
      "cell_type": "markdown",
      "source": [
        "# Nova seção"
      ],
      "metadata": {
        "id": "Za9NPWErSLG3"
      }
    },
    {
      "cell_type": "code",
      "source": [
        "egrid = pd.read_csv(\"CO₂ equivalent non-baseload output emission rate (lb_MWh), by eGRID subregion, 2020.csv\")\n",
        "subregions = gpd.read_file(r\"eGRID2020_subregions.shp\")\n",
        "vehicles = pd.read_csv(\"vehicles.csv\")\n",
        "vehicles"
      ],
      "metadata": {
        "id": "mw52c-3430QM",
        "colab": {
          "base_uri": "https://localhost:8080/",
          "height": 238
        },
        "outputId": "001f2ecc-d265-4d47-e551-a1d9013c88d7"
      },
      "execution_count": null,
      "outputs": [
        {
          "output_type": "execute_result",
          "data": {
            "text/plain": [
              "                   vclass         fuel  energy consumption [MJ/km]  \\\n",
              "0       Medium duty truck       diesel                      11.000   \n",
              "1       Small diesel vans       diesel                       4.900   \n",
              "2     Medium duty e-truck  electricity                       3.130   \n",
              "3     Small electric vans  electricity                       1.360   \n",
              "4  Electric cargo bicycle  electricity                       0.083   \n",
              "5       Quad-copter drone  electricity                       0.039   \n",
              "\n",
              "   ghg emissions [g/MJ]  ghg fuel upstream [g/MJ]  \n",
              "0                  69.5                     15.34  \n",
              "1                  69.5                     15.34  \n",
              "2                 177.0                     22.00  \n",
              "3                 177.0                     22.00  \n",
              "4                 177.0                     22.00  \n",
              "5                 177.0                     22.00  "
            ],
            "text/html": [
              "\n",
              "  <div id=\"df-5e75a02b-5f7c-48ac-b0e5-86ad4c80b413\">\n",
              "    <div class=\"colab-df-container\">\n",
              "      <div>\n",
              "<style scoped>\n",
              "    .dataframe tbody tr th:only-of-type {\n",
              "        vertical-align: middle;\n",
              "    }\n",
              "\n",
              "    .dataframe tbody tr th {\n",
              "        vertical-align: top;\n",
              "    }\n",
              "\n",
              "    .dataframe thead th {\n",
              "        text-align: right;\n",
              "    }\n",
              "</style>\n",
              "<table border=\"1\" class=\"dataframe\">\n",
              "  <thead>\n",
              "    <tr style=\"text-align: right;\">\n",
              "      <th></th>\n",
              "      <th>vclass</th>\n",
              "      <th>fuel</th>\n",
              "      <th>energy consumption [MJ/km]</th>\n",
              "      <th>ghg emissions [g/MJ]</th>\n",
              "      <th>ghg fuel upstream [g/MJ]</th>\n",
              "    </tr>\n",
              "  </thead>\n",
              "  <tbody>\n",
              "    <tr>\n",
              "      <th>0</th>\n",
              "      <td>Medium duty truck</td>\n",
              "      <td>diesel</td>\n",
              "      <td>11.000</td>\n",
              "      <td>69.5</td>\n",
              "      <td>15.34</td>\n",
              "    </tr>\n",
              "    <tr>\n",
              "      <th>1</th>\n",
              "      <td>Small diesel vans</td>\n",
              "      <td>diesel</td>\n",
              "      <td>4.900</td>\n",
              "      <td>69.5</td>\n",
              "      <td>15.34</td>\n",
              "    </tr>\n",
              "    <tr>\n",
              "      <th>2</th>\n",
              "      <td>Medium duty e-truck</td>\n",
              "      <td>electricity</td>\n",
              "      <td>3.130</td>\n",
              "      <td>177.0</td>\n",
              "      <td>22.00</td>\n",
              "    </tr>\n",
              "    <tr>\n",
              "      <th>3</th>\n",
              "      <td>Small electric vans</td>\n",
              "      <td>electricity</td>\n",
              "      <td>1.360</td>\n",
              "      <td>177.0</td>\n",
              "      <td>22.00</td>\n",
              "    </tr>\n",
              "    <tr>\n",
              "      <th>4</th>\n",
              "      <td>Electric cargo bicycle</td>\n",
              "      <td>electricity</td>\n",
              "      <td>0.083</td>\n",
              "      <td>177.0</td>\n",
              "      <td>22.00</td>\n",
              "    </tr>\n",
              "    <tr>\n",
              "      <th>5</th>\n",
              "      <td>Quad-copter drone</td>\n",
              "      <td>electricity</td>\n",
              "      <td>0.039</td>\n",
              "      <td>177.0</td>\n",
              "      <td>22.00</td>\n",
              "    </tr>\n",
              "  </tbody>\n",
              "</table>\n",
              "</div>\n",
              "      <button class=\"colab-df-convert\" onclick=\"convertToInteractive('df-5e75a02b-5f7c-48ac-b0e5-86ad4c80b413')\"\n",
              "              title=\"Convert this dataframe to an interactive table.\"\n",
              "              style=\"display:none;\">\n",
              "        \n",
              "  <svg xmlns=\"http://www.w3.org/2000/svg\" height=\"24px\"viewBox=\"0 0 24 24\"\n",
              "       width=\"24px\">\n",
              "    <path d=\"M0 0h24v24H0V0z\" fill=\"none\"/>\n",
              "    <path d=\"M18.56 5.44l.94 2.06.94-2.06 2.06-.94-2.06-.94-.94-2.06-.94 2.06-2.06.94zm-11 1L8.5 8.5l.94-2.06 2.06-.94-2.06-.94L8.5 2.5l-.94 2.06-2.06.94zm10 10l.94 2.06.94-2.06 2.06-.94-2.06-.94-.94-2.06-.94 2.06-2.06.94z\"/><path d=\"M17.41 7.96l-1.37-1.37c-.4-.4-.92-.59-1.43-.59-.52 0-1.04.2-1.43.59L10.3 9.45l-7.72 7.72c-.78.78-.78 2.05 0 2.83L4 21.41c.39.39.9.59 1.41.59.51 0 1.02-.2 1.41-.59l7.78-7.78 2.81-2.81c.8-.78.8-2.07 0-2.86zM5.41 20L4 18.59l7.72-7.72 1.47 1.35L5.41 20z\"/>\n",
              "  </svg>\n",
              "      </button>\n",
              "      \n",
              "  <style>\n",
              "    .colab-df-container {\n",
              "      display:flex;\n",
              "      flex-wrap:wrap;\n",
              "      gap: 12px;\n",
              "    }\n",
              "\n",
              "    .colab-df-convert {\n",
              "      background-color: #E8F0FE;\n",
              "      border: none;\n",
              "      border-radius: 50%;\n",
              "      cursor: pointer;\n",
              "      display: none;\n",
              "      fill: #1967D2;\n",
              "      height: 32px;\n",
              "      padding: 0 0 0 0;\n",
              "      width: 32px;\n",
              "    }\n",
              "\n",
              "    .colab-df-convert:hover {\n",
              "      background-color: #E2EBFA;\n",
              "      box-shadow: 0px 1px 2px rgba(60, 64, 67, 0.3), 0px 1px 3px 1px rgba(60, 64, 67, 0.15);\n",
              "      fill: #174EA6;\n",
              "    }\n",
              "\n",
              "    [theme=dark] .colab-df-convert {\n",
              "      background-color: #3B4455;\n",
              "      fill: #D2E3FC;\n",
              "    }\n",
              "\n",
              "    [theme=dark] .colab-df-convert:hover {\n",
              "      background-color: #434B5C;\n",
              "      box-shadow: 0px 1px 3px 1px rgba(0, 0, 0, 0.15);\n",
              "      filter: drop-shadow(0px 1px 2px rgba(0, 0, 0, 0.3));\n",
              "      fill: #FFFFFF;\n",
              "    }\n",
              "  </style>\n",
              "\n",
              "      <script>\n",
              "        const buttonEl =\n",
              "          document.querySelector('#df-5e75a02b-5f7c-48ac-b0e5-86ad4c80b413 button.colab-df-convert');\n",
              "        buttonEl.style.display =\n",
              "          google.colab.kernel.accessAllowed ? 'block' : 'none';\n",
              "\n",
              "        async function convertToInteractive(key) {\n",
              "          const element = document.querySelector('#df-5e75a02b-5f7c-48ac-b0e5-86ad4c80b413');\n",
              "          const dataTable =\n",
              "            await google.colab.kernel.invokeFunction('convertToInteractive',\n",
              "                                                     [key], {});\n",
              "          if (!dataTable) return;\n",
              "\n",
              "          const docLinkHtml = 'Like what you see? Visit the ' +\n",
              "            '<a target=\"_blank\" href=https://colab.research.google.com/notebooks/data_table.ipynb>data table notebook</a>'\n",
              "            + ' to learn more about interactive tables.';\n",
              "          element.innerHTML = '';\n",
              "          dataTable['output_type'] = 'display_data';\n",
              "          await google.colab.output.renderOutput(dataTable, element);\n",
              "          const docLink = document.createElement('div');\n",
              "          docLink.innerHTML = docLinkHtml;\n",
              "          element.appendChild(docLink);\n",
              "        }\n",
              "      </script>\n",
              "    </div>\n",
              "  </div>\n",
              "  "
            ]
          },
          "metadata": {},
          "execution_count": 4
        }
      ]
    },
    {
      "cell_type": "code",
      "source": [
        "vehicles['energy_without_losses_[MJ/km]'] = vehicles['energy consumption [MJ/km]'].copy()\n",
        "vehicles.loc[2:,'energy consumption [MJ/km]'] = vehicles.loc[2:,'energy consumption [MJ/km]']/((0.88)*(1-6.5/100))\n",
        "vehicles[['energy_without_losses_[MJ/km]','energy consumption [MJ/km]']]"
      ],
      "metadata": {
        "colab": {
          "base_uri": "https://localhost:8080/",
          "height": 238
        },
        "id": "uvVPkiRDAa1N",
        "outputId": "8ce8a2d4-4677-43f3-f5e1-bbf7824a5561"
      },
      "execution_count": null,
      "outputs": [
        {
          "output_type": "execute_result",
          "data": {
            "text/plain": [
              "   energy_without_losses_[MJ/km]  energy consumption [MJ/km]\n",
              "0                         11.000                   11.000000\n",
              "1                          4.900                    4.900000\n",
              "2                          3.130                    3.804084\n",
              "3                          1.360                    1.652893\n",
              "4                          0.083                    0.100875\n",
              "5                          0.039                    0.047399"
            ],
            "text/html": [
              "\n",
              "  <div id=\"df-a23a11ec-a566-4664-9bd2-8f2308a5e366\">\n",
              "    <div class=\"colab-df-container\">\n",
              "      <div>\n",
              "<style scoped>\n",
              "    .dataframe tbody tr th:only-of-type {\n",
              "        vertical-align: middle;\n",
              "    }\n",
              "\n",
              "    .dataframe tbody tr th {\n",
              "        vertical-align: top;\n",
              "    }\n",
              "\n",
              "    .dataframe thead th {\n",
              "        text-align: right;\n",
              "    }\n",
              "</style>\n",
              "<table border=\"1\" class=\"dataframe\">\n",
              "  <thead>\n",
              "    <tr style=\"text-align: right;\">\n",
              "      <th></th>\n",
              "      <th>energy_without_losses_[MJ/km]</th>\n",
              "      <th>energy consumption [MJ/km]</th>\n",
              "    </tr>\n",
              "  </thead>\n",
              "  <tbody>\n",
              "    <tr>\n",
              "      <th>0</th>\n",
              "      <td>11.000</td>\n",
              "      <td>11.000000</td>\n",
              "    </tr>\n",
              "    <tr>\n",
              "      <th>1</th>\n",
              "      <td>4.900</td>\n",
              "      <td>4.900000</td>\n",
              "    </tr>\n",
              "    <tr>\n",
              "      <th>2</th>\n",
              "      <td>3.130</td>\n",
              "      <td>3.804084</td>\n",
              "    </tr>\n",
              "    <tr>\n",
              "      <th>3</th>\n",
              "      <td>1.360</td>\n",
              "      <td>1.652893</td>\n",
              "    </tr>\n",
              "    <tr>\n",
              "      <th>4</th>\n",
              "      <td>0.083</td>\n",
              "      <td>0.100875</td>\n",
              "    </tr>\n",
              "    <tr>\n",
              "      <th>5</th>\n",
              "      <td>0.039</td>\n",
              "      <td>0.047399</td>\n",
              "    </tr>\n",
              "  </tbody>\n",
              "</table>\n",
              "</div>\n",
              "      <button class=\"colab-df-convert\" onclick=\"convertToInteractive('df-a23a11ec-a566-4664-9bd2-8f2308a5e366')\"\n",
              "              title=\"Convert this dataframe to an interactive table.\"\n",
              "              style=\"display:none;\">\n",
              "        \n",
              "  <svg xmlns=\"http://www.w3.org/2000/svg\" height=\"24px\"viewBox=\"0 0 24 24\"\n",
              "       width=\"24px\">\n",
              "    <path d=\"M0 0h24v24H0V0z\" fill=\"none\"/>\n",
              "    <path d=\"M18.56 5.44l.94 2.06.94-2.06 2.06-.94-2.06-.94-.94-2.06-.94 2.06-2.06.94zm-11 1L8.5 8.5l.94-2.06 2.06-.94-2.06-.94L8.5 2.5l-.94 2.06-2.06.94zm10 10l.94 2.06.94-2.06 2.06-.94-2.06-.94-.94-2.06-.94 2.06-2.06.94z\"/><path d=\"M17.41 7.96l-1.37-1.37c-.4-.4-.92-.59-1.43-.59-.52 0-1.04.2-1.43.59L10.3 9.45l-7.72 7.72c-.78.78-.78 2.05 0 2.83L4 21.41c.39.39.9.59 1.41.59.51 0 1.02-.2 1.41-.59l7.78-7.78 2.81-2.81c.8-.78.8-2.07 0-2.86zM5.41 20L4 18.59l7.72-7.72 1.47 1.35L5.41 20z\"/>\n",
              "  </svg>\n",
              "      </button>\n",
              "      \n",
              "  <style>\n",
              "    .colab-df-container {\n",
              "      display:flex;\n",
              "      flex-wrap:wrap;\n",
              "      gap: 12px;\n",
              "    }\n",
              "\n",
              "    .colab-df-convert {\n",
              "      background-color: #E8F0FE;\n",
              "      border: none;\n",
              "      border-radius: 50%;\n",
              "      cursor: pointer;\n",
              "      display: none;\n",
              "      fill: #1967D2;\n",
              "      height: 32px;\n",
              "      padding: 0 0 0 0;\n",
              "      width: 32px;\n",
              "    }\n",
              "\n",
              "    .colab-df-convert:hover {\n",
              "      background-color: #E2EBFA;\n",
              "      box-shadow: 0px 1px 2px rgba(60, 64, 67, 0.3), 0px 1px 3px 1px rgba(60, 64, 67, 0.15);\n",
              "      fill: #174EA6;\n",
              "    }\n",
              "\n",
              "    [theme=dark] .colab-df-convert {\n",
              "      background-color: #3B4455;\n",
              "      fill: #D2E3FC;\n",
              "    }\n",
              "\n",
              "    [theme=dark] .colab-df-convert:hover {\n",
              "      background-color: #434B5C;\n",
              "      box-shadow: 0px 1px 3px 1px rgba(0, 0, 0, 0.15);\n",
              "      filter: drop-shadow(0px 1px 2px rgba(0, 0, 0, 0.3));\n",
              "      fill: #FFFFFF;\n",
              "    }\n",
              "  </style>\n",
              "\n",
              "      <script>\n",
              "        const buttonEl =\n",
              "          document.querySelector('#df-a23a11ec-a566-4664-9bd2-8f2308a5e366 button.colab-df-convert');\n",
              "        buttonEl.style.display =\n",
              "          google.colab.kernel.accessAllowed ? 'block' : 'none';\n",
              "\n",
              "        async function convertToInteractive(key) {\n",
              "          const element = document.querySelector('#df-a23a11ec-a566-4664-9bd2-8f2308a5e366');\n",
              "          const dataTable =\n",
              "            await google.colab.kernel.invokeFunction('convertToInteractive',\n",
              "                                                     [key], {});\n",
              "          if (!dataTable) return;\n",
              "\n",
              "          const docLinkHtml = 'Like what you see? Visit the ' +\n",
              "            '<a target=\"_blank\" href=https://colab.research.google.com/notebooks/data_table.ipynb>data table notebook</a>'\n",
              "            + ' to learn more about interactive tables.';\n",
              "          element.innerHTML = '';\n",
              "          dataTable['output_type'] = 'display_data';\n",
              "          await google.colab.output.renderOutput(dataTable, element);\n",
              "          const docLink = document.createElement('div');\n",
              "          docLink.innerHTML = docLinkHtml;\n",
              "          element.appendChild(docLink);\n",
              "        }\n",
              "      </script>\n",
              "    </div>\n",
              "  </div>\n",
              "  "
            ]
          },
          "metadata": {},
          "execution_count": 5
        }
      ]
    },
    {
      "cell_type": "code",
      "source": [
        "vclass = [\"Medium duty truck\", 'Small diesel van', 'Medium duty electric truck', \n",
        "          'Small electric van', 'Electric cargo bicycle', \n",
        "          'Quad-copter drone']"
      ],
      "metadata": {
        "id": "4SWp4C8O372U"
      },
      "execution_count": null,
      "outputs": []
    },
    {
      "cell_type": "code",
      "source": [
        "unit_dict = {'name': 'str', 'consumption':'MJ/km', 'upstream': \"gCO2e/km\", \n",
        "             'stop_km':\"stop/km\", 'pack_stop':'package/stop','pack_km':'package/km', 'pack_km_low': 'package/km', 'pack_km_high':'package/km',\n",
        "            'energy_pack':'MJ/package','energy_pack_upper':'MJ/package','energy_pack_lower':'MJ/package',\n",
        "            'fuel_emissions':'gCO2e/km', 'battery': 'gCO2e/km', 'total_ghg':\"gCO2e/km\", 'upstream_pack':'gCO2e/package',\n",
        "            'battery_pack':'gCO2e/package','fuel_pack':'gCO2e/package','ghg_pack':'gCO2e/package',\n",
        "             \"energy_pack_to_drone\":'package/km',\"ghg_pack_to_drone\":'package/km', \"energy_drone_equivalent\": \"MJ/km\"}"
      ],
      "metadata": {
        "id": "ojP3zDIC6km9"
      },
      "execution_count": null,
      "outputs": []
    },
    {
      "cell_type": "code",
      "source": [
        "class Vehicle: \n",
        "    def __init__(self, name, e_consumption, ghg_upstream, stop_km, pack_stop, pack_km_low, pack_km_high):\n",
        "        self.name = name\n",
        "        self.consumption = e_consumption\n",
        "        self.upstream = ghg_upstream*e_consumption\n",
        "        self.stop_km = stop_km\n",
        "        self.pack_stop = pack_stop\n",
        "        self.pack_km = pack_stop*stop_km\n",
        "        self.energy_pack = e_consumption/self.pack_km\n",
        "        self.pack_km_low = pack_km_low\n",
        "        self.pack_km_high = pack_km_high\n",
        "        self.energy_pack_upper = e_consumption/pack_km_low   # upper limit\n",
        "        self.energy_pack_lower = e_consumption/pack_km_high   # lower limit\n",
        "    \n",
        "    def set_electric_emissions(self, egrid_df): \n",
        "        self.fuel_emissions = {}\n",
        "        for i in range(len(egrid_df)):\n",
        "            self.fuel_emissions[egrid_df.loc[i,'Region']] = egrid_df.loc[i,'g/MJ']*self.consumption\n",
        "            \n",
        "    def set_diesel_emissions(self, egrid_df, diesel_ghg):\n",
        "        self.fuel_emissions = {}\n",
        "        for i in range(len(egrid_df)):\n",
        "            self.fuel_emissions[egrid_df.loc[i,'Region']] = diesel_ghg*self.consumption\n",
        "            \n",
        "    def set_battery_emissions(self, battery_emission):\n",
        "        self.battery = battery_emission\n",
        "    \n",
        "    def compute_ghg_total(self):\n",
        "        self.total_ghg = {}\n",
        "        for i in range(len(self.fuel_emissions)):\n",
        "            region = list(self.fuel_emissions.keys())[i]\n",
        "            self.total_ghg[region] = self.fuel_emissions[region] + self.upstream + self.battery\n",
        "    \n",
        "    def compute_ghg_pack(self):\n",
        "        self.ghg_pack = {}\n",
        "        self.fuel_pack = {}\n",
        "        self.upstream_pack = self.upstream/self.pack_km\n",
        "        self.battery_pack = self.battery/self.pack_km\n",
        "        \n",
        "        for i in range(len(self.fuel_emissions)):\n",
        "            region = list(self.fuel_emissions.keys())[i]\n",
        "            self.fuel_pack[region] = self.fuel_emissions[region]/self.pack_km\n",
        "            self.ghg_pack[region] = self.total_ghg[region]/self.pack_km\n",
        "    \n",
        "    def compute_pack_to_drone(self, energy_pack_drone, ghg_pack_drone):\n",
        "        self.energy_pack_to_drone = self.consumption/energy_pack_drone\n",
        "        self.ghg_pack_to_drone = {}\n",
        "        for i in range(len(self.fuel_emissions)):\n",
        "            region = list(self.fuel_emissions.keys())[i]\n",
        "            self.ghg_pack_to_drone[region] = self.total_ghg[region]/ghg_pack_drone[region]\n",
        "    \n",
        "    def compute_energy_drone_equivalent(self, package_km_drone):\n",
        "        self.energy_drone_equivalent = self.energy_pack*package_km_drone  \n",
        "    \n",
        "            "
      ],
      "metadata": {
        "id": "SHBON-lsU-9-"
      },
      "execution_count": null,
      "outputs": []
    },
    {
      "cell_type": "code",
      "source": [
        "# Assumptions\n",
        "# Trucks have on average 0.7 stops/km @FleetDNA and deliver 3 packages per stop on average\n",
        "# Vans have on average 1.74 stops/km @FleetDNA and deliver 2 packages per stop on average\n",
        "\n",
        "diesel_ghg = 69.5 #greet \n",
        "stop_km = np.array([0.7, 1.74, 0.7, 1.74, 1, 0.25]) # fleet DNA\n",
        "battery = np.array([0, 0, 24.5, 14.1, 1.3, 0.76]) # greet  \n",
        "\n",
        "pack_stop = np.array([3, 2, 3, 2, 1, 1]) # our assumptions\n",
        "pack_km_low = np.array([1.5, 1.5, 1.5, 1.5, 0.25, 0.125]) # our assumptions >>> fewer packages per km\n",
        "pack_km_high = np.array([5, 5, 5, 5, 3, 0.5]) # our assumptions >>> more packages per km\n",
        "\n",
        "v = []\n",
        "for i in range(len(vclass)):\n",
        "    v.append(Vehicle(vclass[i], vehicles.loc[i,'energy consumption [MJ/km]'], \n",
        "                     vehicles.loc[i,'ghg fuel upstream [g/MJ]'], stop_km[i], pack_stop[i],\n",
        "                     pack_km_low[i], pack_km_high[i]))\n",
        "    v[i].set_battery_emissions(battery[i])\n",
        "    if i < 2:\n",
        "        v[i].set_diesel_emissions(egrid, diesel_ghg)\n",
        "    else:\n",
        "        v[i].set_electric_emissions(egrid)\n",
        "    v[i].compute_ghg_total()\n",
        "    v[i].compute_ghg_pack()\n",
        "for i in range(len(vclass)):\n",
        "    v[i].compute_pack_to_drone(v[5].energy_pack, v[5].ghg_pack)\n",
        "    v[i].compute_energy_drone_equivalent(v[5].pack_km)\n",
        "        "
      ],
      "metadata": {
        "id": "Oi5bF7hIVEos"
      },
      "execution_count": null,
      "outputs": []
    },
    {
      "cell_type": "code",
      "source": [
        ""
      ],
      "metadata": {
        "id": "r99wh1o4nlPl"
      },
      "execution_count": null,
      "outputs": []
    },
    {
      "cell_type": "code",
      "source": [
        ""
      ],
      "metadata": {
        "id": "l19bDvuk0-r2"
      },
      "execution_count": null,
      "outputs": []
    },
    {
      "cell_type": "code",
      "source": [
        "overview_df = pd.DataFrame()\n",
        "name = []\n",
        "consumption = []\n",
        "upstream = [] \n",
        "stop_km = []\n",
        "pack_stop = []\n",
        "pack_km = []\n",
        "energy_pack = []\n",
        "battery = []\n",
        "pack_km_low = []\n",
        "pack_km_high = []\n",
        "energy_pack_low = []\n",
        "energy_pack_high = []\n",
        "\n",
        "for i in range(len(vehicles)):\n",
        "  name.append(v[i].name)\n",
        "  consumption.append(v[i].consumption)\n",
        "  upstream.append(v[i].upstream)\n",
        "  stop_km.append(v[i].stop_km)\n",
        "  pack_stop.append(v[i].pack_stop)\n",
        "  pack_km.append(v[i].pack_km)\n",
        "  energy_pack.append(v[i].energy_pack)\n",
        "  pack_km_low.append(v[i].pack_km_low)\n",
        "  pack_km_high.append(v[i].pack_km_high)\n",
        "  battery.append(v[i].battery)\n",
        "  energy_pack_low.append(v[i].energy_pack_lower)\n",
        "  energy_pack_high.append(v[i].energy_pack_upper)\n",
        "\n",
        "overview_df = pd.DataFrame({\"vehicle_class\": name, 'consumption': consumption, 'upstream_emissions': \n",
        "                            upstream, 'battery_emissions':battery,'stop_km':stop_km, \n",
        "                            \"package_stop\":pack_stop,'package_km':pack_km, 'package_km_low':pack_km_low,\n",
        "                            'package_km_high':pack_km_high, \"energy_pack\":energy_pack,\n",
        "                            \"energy_package_low\":energy_pack_low,\"energy_package_high\":energy_pack_high})\n",
        "\n",
        "\n",
        "overview_df.to_csv(\"base_case.csv\", index=False)\n",
        "overview_df"
      ],
      "metadata": {
        "colab": {
          "base_uri": "https://localhost:8080/",
          "height": 406
        },
        "id": "Hf8gOumwYDc9",
        "outputId": "ee3468e1-e0e0-4cba-c1c9-3561b97dc88d"
      },
      "execution_count": null,
      "outputs": [
        {
          "output_type": "execute_result",
          "data": {
            "text/plain": [
              "                vehicle_class  consumption  upstream_emissions  \\\n",
              "0           Medium duty truck    11.000000          168.740000   \n",
              "1            Small diesel van     4.900000           75.166000   \n",
              "2  Medium duty electric truck     3.804084           83.689840   \n",
              "3          Small electric van     1.652893           36.363636   \n",
              "4      Electric cargo bicycle     0.100875            2.219251   \n",
              "5           Quad-copter drone     0.047399            1.042781   \n",
              "\n",
              "   battery_emissions  stop_km  package_stop  package_km  package_km_low  \\\n",
              "0               0.00     0.70             3        2.10           1.500   \n",
              "1               0.00     1.74             2        3.48           1.500   \n",
              "2              24.50     0.70             3        2.10           1.500   \n",
              "3              14.10     1.74             2        3.48           1.500   \n",
              "4               1.30     1.00             1        1.00           0.250   \n",
              "5               0.76     0.25             1        0.25           0.125   \n",
              "\n",
              "   package_km_high  energy_pack  energy_package_low  energy_package_high  \n",
              "0              5.0     5.238095            2.200000             7.333333  \n",
              "1              5.0     1.408046            0.980000             3.266667  \n",
              "2              5.0     1.811468            0.760817             2.536056  \n",
              "3              5.0     0.474969            0.330579             1.101928  \n",
              "4              3.0     0.100875            0.033625             0.403500  \n",
              "5              0.5     0.189596            0.094798             0.379193  "
            ],
            "text/html": [
              "\n",
              "  <div id=\"df-d0c77fcd-1e0f-4d19-9178-169ed754edd4\">\n",
              "    <div class=\"colab-df-container\">\n",
              "      <div>\n",
              "<style scoped>\n",
              "    .dataframe tbody tr th:only-of-type {\n",
              "        vertical-align: middle;\n",
              "    }\n",
              "\n",
              "    .dataframe tbody tr th {\n",
              "        vertical-align: top;\n",
              "    }\n",
              "\n",
              "    .dataframe thead th {\n",
              "        text-align: right;\n",
              "    }\n",
              "</style>\n",
              "<table border=\"1\" class=\"dataframe\">\n",
              "  <thead>\n",
              "    <tr style=\"text-align: right;\">\n",
              "      <th></th>\n",
              "      <th>vehicle_class</th>\n",
              "      <th>consumption</th>\n",
              "      <th>upstream_emissions</th>\n",
              "      <th>battery_emissions</th>\n",
              "      <th>stop_km</th>\n",
              "      <th>package_stop</th>\n",
              "      <th>package_km</th>\n",
              "      <th>package_km_low</th>\n",
              "      <th>package_km_high</th>\n",
              "      <th>energy_pack</th>\n",
              "      <th>energy_package_low</th>\n",
              "      <th>energy_package_high</th>\n",
              "    </tr>\n",
              "  </thead>\n",
              "  <tbody>\n",
              "    <tr>\n",
              "      <th>0</th>\n",
              "      <td>Medium duty truck</td>\n",
              "      <td>11.000000</td>\n",
              "      <td>168.740000</td>\n",
              "      <td>0.00</td>\n",
              "      <td>0.70</td>\n",
              "      <td>3</td>\n",
              "      <td>2.10</td>\n",
              "      <td>1.500</td>\n",
              "      <td>5.0</td>\n",
              "      <td>5.238095</td>\n",
              "      <td>2.200000</td>\n",
              "      <td>7.333333</td>\n",
              "    </tr>\n",
              "    <tr>\n",
              "      <th>1</th>\n",
              "      <td>Small diesel van</td>\n",
              "      <td>4.900000</td>\n",
              "      <td>75.166000</td>\n",
              "      <td>0.00</td>\n",
              "      <td>1.74</td>\n",
              "      <td>2</td>\n",
              "      <td>3.48</td>\n",
              "      <td>1.500</td>\n",
              "      <td>5.0</td>\n",
              "      <td>1.408046</td>\n",
              "      <td>0.980000</td>\n",
              "      <td>3.266667</td>\n",
              "    </tr>\n",
              "    <tr>\n",
              "      <th>2</th>\n",
              "      <td>Medium duty electric truck</td>\n",
              "      <td>3.804084</td>\n",
              "      <td>83.689840</td>\n",
              "      <td>24.50</td>\n",
              "      <td>0.70</td>\n",
              "      <td>3</td>\n",
              "      <td>2.10</td>\n",
              "      <td>1.500</td>\n",
              "      <td>5.0</td>\n",
              "      <td>1.811468</td>\n",
              "      <td>0.760817</td>\n",
              "      <td>2.536056</td>\n",
              "    </tr>\n",
              "    <tr>\n",
              "      <th>3</th>\n",
              "      <td>Small electric van</td>\n",
              "      <td>1.652893</td>\n",
              "      <td>36.363636</td>\n",
              "      <td>14.10</td>\n",
              "      <td>1.74</td>\n",
              "      <td>2</td>\n",
              "      <td>3.48</td>\n",
              "      <td>1.500</td>\n",
              "      <td>5.0</td>\n",
              "      <td>0.474969</td>\n",
              "      <td>0.330579</td>\n",
              "      <td>1.101928</td>\n",
              "    </tr>\n",
              "    <tr>\n",
              "      <th>4</th>\n",
              "      <td>Electric cargo bicycle</td>\n",
              "      <td>0.100875</td>\n",
              "      <td>2.219251</td>\n",
              "      <td>1.30</td>\n",
              "      <td>1.00</td>\n",
              "      <td>1</td>\n",
              "      <td>1.00</td>\n",
              "      <td>0.250</td>\n",
              "      <td>3.0</td>\n",
              "      <td>0.100875</td>\n",
              "      <td>0.033625</td>\n",
              "      <td>0.403500</td>\n",
              "    </tr>\n",
              "    <tr>\n",
              "      <th>5</th>\n",
              "      <td>Quad-copter drone</td>\n",
              "      <td>0.047399</td>\n",
              "      <td>1.042781</td>\n",
              "      <td>0.76</td>\n",
              "      <td>0.25</td>\n",
              "      <td>1</td>\n",
              "      <td>0.25</td>\n",
              "      <td>0.125</td>\n",
              "      <td>0.5</td>\n",
              "      <td>0.189596</td>\n",
              "      <td>0.094798</td>\n",
              "      <td>0.379193</td>\n",
              "    </tr>\n",
              "  </tbody>\n",
              "</table>\n",
              "</div>\n",
              "      <button class=\"colab-df-convert\" onclick=\"convertToInteractive('df-d0c77fcd-1e0f-4d19-9178-169ed754edd4')\"\n",
              "              title=\"Convert this dataframe to an interactive table.\"\n",
              "              style=\"display:none;\">\n",
              "        \n",
              "  <svg xmlns=\"http://www.w3.org/2000/svg\" height=\"24px\"viewBox=\"0 0 24 24\"\n",
              "       width=\"24px\">\n",
              "    <path d=\"M0 0h24v24H0V0z\" fill=\"none\"/>\n",
              "    <path d=\"M18.56 5.44l.94 2.06.94-2.06 2.06-.94-2.06-.94-.94-2.06-.94 2.06-2.06.94zm-11 1L8.5 8.5l.94-2.06 2.06-.94-2.06-.94L8.5 2.5l-.94 2.06-2.06.94zm10 10l.94 2.06.94-2.06 2.06-.94-2.06-.94-.94-2.06-.94 2.06-2.06.94z\"/><path d=\"M17.41 7.96l-1.37-1.37c-.4-.4-.92-.59-1.43-.59-.52 0-1.04.2-1.43.59L10.3 9.45l-7.72 7.72c-.78.78-.78 2.05 0 2.83L4 21.41c.39.39.9.59 1.41.59.51 0 1.02-.2 1.41-.59l7.78-7.78 2.81-2.81c.8-.78.8-2.07 0-2.86zM5.41 20L4 18.59l7.72-7.72 1.47 1.35L5.41 20z\"/>\n",
              "  </svg>\n",
              "      </button>\n",
              "      \n",
              "  <style>\n",
              "    .colab-df-container {\n",
              "      display:flex;\n",
              "      flex-wrap:wrap;\n",
              "      gap: 12px;\n",
              "    }\n",
              "\n",
              "    .colab-df-convert {\n",
              "      background-color: #E8F0FE;\n",
              "      border: none;\n",
              "      border-radius: 50%;\n",
              "      cursor: pointer;\n",
              "      display: none;\n",
              "      fill: #1967D2;\n",
              "      height: 32px;\n",
              "      padding: 0 0 0 0;\n",
              "      width: 32px;\n",
              "    }\n",
              "\n",
              "    .colab-df-convert:hover {\n",
              "      background-color: #E2EBFA;\n",
              "      box-shadow: 0px 1px 2px rgba(60, 64, 67, 0.3), 0px 1px 3px 1px rgba(60, 64, 67, 0.15);\n",
              "      fill: #174EA6;\n",
              "    }\n",
              "\n",
              "    [theme=dark] .colab-df-convert {\n",
              "      background-color: #3B4455;\n",
              "      fill: #D2E3FC;\n",
              "    }\n",
              "\n",
              "    [theme=dark] .colab-df-convert:hover {\n",
              "      background-color: #434B5C;\n",
              "      box-shadow: 0px 1px 3px 1px rgba(0, 0, 0, 0.15);\n",
              "      filter: drop-shadow(0px 1px 2px rgba(0, 0, 0, 0.3));\n",
              "      fill: #FFFFFF;\n",
              "    }\n",
              "  </style>\n",
              "\n",
              "      <script>\n",
              "        const buttonEl =\n",
              "          document.querySelector('#df-d0c77fcd-1e0f-4d19-9178-169ed754edd4 button.colab-df-convert');\n",
              "        buttonEl.style.display =\n",
              "          google.colab.kernel.accessAllowed ? 'block' : 'none';\n",
              "\n",
              "        async function convertToInteractive(key) {\n",
              "          const element = document.querySelector('#df-d0c77fcd-1e0f-4d19-9178-169ed754edd4');\n",
              "          const dataTable =\n",
              "            await google.colab.kernel.invokeFunction('convertToInteractive',\n",
              "                                                     [key], {});\n",
              "          if (!dataTable) return;\n",
              "\n",
              "          const docLinkHtml = 'Like what you see? Visit the ' +\n",
              "            '<a target=\"_blank\" href=https://colab.research.google.com/notebooks/data_table.ipynb>data table notebook</a>'\n",
              "            + ' to learn more about interactive tables.';\n",
              "          element.innerHTML = '';\n",
              "          dataTable['output_type'] = 'display_data';\n",
              "          await google.colab.output.renderOutput(dataTable, element);\n",
              "          const docLink = document.createElement('div');\n",
              "          docLink.innerHTML = docLinkHtml;\n",
              "          element.appendChild(docLink);\n",
              "        }\n",
              "      </script>\n",
              "    </div>\n",
              "  </div>\n",
              "  "
            ]
          },
          "metadata": {},
          "execution_count": 10
        }
      ]
    },
    {
      "cell_type": "code",
      "source": [
        "for key in unit_dict.keys():\n",
        "  print(key,\":\",unit_dict[key])"
      ],
      "metadata": {
        "colab": {
          "base_uri": "https://localhost:8080/"
        },
        "id": "oZW9o_qq0OON",
        "outputId": "b80e1795-5cad-4d97-9240-02847f12f379"
      },
      "execution_count": null,
      "outputs": [
        {
          "output_type": "stream",
          "name": "stdout",
          "text": [
            "name : str\n",
            "consumption : MJ/km\n",
            "upstream : gCO2e/km\n",
            "stop_km : stop/km\n",
            "pack_stop : package/stop\n",
            "pack_km : package/km\n",
            "pack_km_low : package/km\n",
            "pack_km_high : package/km\n",
            "energy_pack : MJ/package\n",
            "energy_pack_upper : MJ/package\n",
            "energy_pack_lower : MJ/package\n",
            "fuel_emissions : gCO2e/km\n",
            "battery : gCO2e/km\n",
            "total_ghg : gCO2e/km\n",
            "upstream_pack : gCO2e/package\n",
            "battery_pack : gCO2e/package\n",
            "fuel_pack : gCO2e/package\n",
            "ghg_pack : gCO2e/package\n",
            "energy_pack_to_drone : package/km\n",
            "ghg_pack_to_drone : package/km\n",
            "energy_drone_equivalent : MJ/km\n"
          ]
        }
      ]
    },
    {
      "cell_type": "code",
      "source": [
        "total_ghg_df = pd.DataFrame({\"subregion\":v[0].total_ghg.keys()})\n",
        "ghg_pack_df = pd.DataFrame({\"subregion\":v[0].total_ghg.keys()})\n",
        "\n",
        "for i in range(len(vehicles)):\n",
        "  total_ghg_df[v[i].name] = v[i].total_ghg.values()\n",
        "  ghg_pack_df[v[i].name] = v[i].ghg_pack.values()\n",
        "\n",
        "\n",
        "total_ghg_df.to_csv('ghg_km.csv', index=False)\n",
        "ghg_pack_df.to_csv(\"ghg_pack.csv\", index=False)\n"
      ],
      "metadata": {
        "id": "qVbFNcqfjQQ-"
      },
      "execution_count": null,
      "outputs": []
    },
    {
      "cell_type": "code",
      "source": [
        ""
      ],
      "metadata": {
        "id": "6ZkcaR5ZkRtv"
      },
      "execution_count": null,
      "outputs": []
    },
    {
      "cell_type": "code",
      "source": [
        "max = 0\n",
        "max_region = 0\n",
        "min = 1000\n",
        "min_region = 0\n",
        "vehicle = 4\n",
        "for key in v[vehicle].ghg_pack.keys():\n",
        "  if max < v[vehicle].ghg_pack[key]:\n",
        "    max = v[vehicle].ghg_pack[key]\n",
        "    max_region = key\n",
        "  if min > v[vehicle].ghg_pack[key]:\n",
        "    min = v[vehicle].ghg_pack[key]\n",
        "    min_region = key\n",
        "print(v[vehicle].name,max_region, max, min_region, min)\n",
        "v[vehicle].ghg_pack"
      ],
      "metadata": {
        "colab": {
          "base_uri": "https://localhost:8080/"
        },
        "id": "Bn8HJ9Ti-Plc",
        "outputId": "fbc463dd-7191-466d-b9e7-8108256764de"
      },
      "execution_count": null,
      "outputs": [
        {
          "output_type": "stream",
          "name": "stdout",
          "text": [
            "Electric cargo bicycle SPNO 28.734305476665043 NYUP 14.710562924039863\n"
          ]
        },
        {
          "output_type": "execute_result",
          "data": {
            "text/plain": [
              "{'AKGD': 20.33983675899368,\n",
              " 'AKMS': 22.87447163308216,\n",
              " 'AZNM': 20.99059047143899,\n",
              " 'CAMX': 16.35536835573651,\n",
              " 'ERCT': 20.07127374574623,\n",
              " 'FRCC': 16.41218220879922,\n",
              " 'HIMS': 23.24318971135148,\n",
              " 'HIOA': 25.965297577175498,\n",
              " 'MROE': 24.344259913709283,\n",
              " 'MROW': 26.683414474963534,\n",
              " 'NEWE': 14.79225030748663,\n",
              " 'NWPP': 24.666205060889645,\n",
              " 'NYCW': 15.86604478111327,\n",
              " 'NYLI': 19.567575121900823,\n",
              " 'NYUP': 14.710562924039863,\n",
              " 'PRMS': 24.856982659090907,\n",
              " 'RFCE': 19.267618337141467,\n",
              " 'RFCM': 25.59073289134662,\n",
              " 'RFCW': 26.67909305797277,\n",
              " 'RMPA': 24.627566553475933,\n",
              " 'SPNO': 28.734305476665043,\n",
              " 'SPSO': 22.849305766771995,\n",
              " 'SRMV': 18.021907954788528,\n",
              " 'SRMW': 27.40915738612056,\n",
              " 'SRSO': 20.591622524671852,\n",
              " 'SRTV': 22.85070387493923,\n",
              " 'SRVC': 20.439610516285853,\n",
              " 'US': 21.40023485306271}"
            ]
          },
          "metadata": {},
          "execution_count": 14
        }
      ]
    },
    {
      "cell_type": "code",
      "source": [
        "for i in range(6):\n",
        "    print(v[i].name, round(v[i].energy_drone_equivalent/v[5].energy_drone_equivalent,2))"
      ],
      "metadata": {
        "colab": {
          "base_uri": "https://localhost:8080/"
        },
        "id": "S4b8o3MOVG5U",
        "outputId": "91d22764-69a9-49dd-aaf8-38661e23fdb2"
      },
      "execution_count": null,
      "outputs": [
        {
          "output_type": "stream",
          "name": "stdout",
          "text": [
            "Medium duty truck 27.63\n",
            "Small diesel van 7.43\n",
            "Medium duty electric truck 9.55\n",
            "Small electric van 2.51\n",
            "Electric cargo bicycle 0.53\n",
            "Quad-copter drone 1.0\n"
          ]
        }
      ]
    },
    {
      "cell_type": "code",
      "source": [
        "for i in range(6):\n",
        "    print(v[i].name, round(v[i].energy_drone_equivalent,2))"
      ],
      "metadata": {
        "id": "c0O8-uRQA5YB",
        "colab": {
          "base_uri": "https://localhost:8080/"
        },
        "outputId": "b695ccb6-e48e-4739-b5b8-cfbf19c502b3"
      },
      "execution_count": null,
      "outputs": [
        {
          "output_type": "stream",
          "name": "stdout",
          "text": [
            "Medium duty truck 1.31\n",
            "Small diesel van 0.35\n",
            "Medium duty electric truck 0.45\n",
            "Small electric van 0.12\n",
            "Electric cargo bicycle 0.03\n",
            "Quad-copter drone 0.05\n"
          ]
        }
      ]
    },
    {
      "cell_type": "code",
      "source": [
        "for i in range(6):\n",
        "    print(v[i].name, round(v[i].energy_pack_to_drone,2))"
      ],
      "metadata": {
        "colab": {
          "base_uri": "https://localhost:8080/"
        },
        "id": "W_DNkFQ6YJji",
        "outputId": "df920287-dfec-4674-844f-b6cf40124723"
      },
      "execution_count": null,
      "outputs": [
        {
          "output_type": "stream",
          "name": "stdout",
          "text": [
            "Medium duty truck 58.02\n",
            "Small diesel van 25.84\n",
            "Medium duty electric truck 20.06\n",
            "Small electric van 8.72\n",
            "Electric cargo bicycle 0.53\n",
            "Quad-copter drone 0.25\n"
          ]
        }
      ]
    },
    {
      "cell_type": "code",
      "source": [
        "regions = egrid.Region.copy()\n",
        "ghg_total_EVs = pd.DataFrame({\"region\":regions})\n",
        "for i in range(2,len(v)):\n",
        "  ghg_total_EVs[v[i].name] = v[i].total_ghg.values()\n",
        "ghg_total_EVs.to_csv(\"ghg_total_EVs.csv\", index=False)"
      ],
      "metadata": {
        "id": "4F3J2Ijy2pde"
      },
      "execution_count": null,
      "outputs": []
    },
    {
      "cell_type": "code",
      "source": [
        "vehicles"
      ],
      "metadata": {
        "colab": {
          "base_uri": "https://localhost:8080/",
          "height": 238
        },
        "id": "49ePRtfK5yxv",
        "outputId": "dbdf06cc-2e03-48c7-8d6c-d9f7f8afcb43"
      },
      "execution_count": null,
      "outputs": [
        {
          "output_type": "execute_result",
          "data": {
            "text/plain": [
              "                   vclass         fuel  energy consumption [MJ/km]  \\\n",
              "0       Medium duty truck       diesel                   11.000000   \n",
              "1       Small diesel vans       diesel                    4.900000   \n",
              "2     Medium duty e-truck  electricity                    3.804084   \n",
              "3     Small electric vans  electricity                    1.652893   \n",
              "4  Electric cargo bicycle  electricity                    0.100875   \n",
              "5       Quad-copter drone  electricity                    0.047399   \n",
              "\n",
              "   ghg emissions [g/MJ]  ghg fuel upstream [g/MJ]  \\\n",
              "0                  69.5                     15.34   \n",
              "1                  69.5                     15.34   \n",
              "2                 177.0                     22.00   \n",
              "3                 177.0                     22.00   \n",
              "4                 177.0                     22.00   \n",
              "5                 177.0                     22.00   \n",
              "\n",
              "   energy_without_losses_[MJ/km]  \n",
              "0                         11.000  \n",
              "1                          4.900  \n",
              "2                          3.130  \n",
              "3                          1.360  \n",
              "4                          0.083  \n",
              "5                          0.039  "
            ],
            "text/html": [
              "\n",
              "  <div id=\"df-227814d1-1155-46cc-98ef-26fc8731d154\">\n",
              "    <div class=\"colab-df-container\">\n",
              "      <div>\n",
              "<style scoped>\n",
              "    .dataframe tbody tr th:only-of-type {\n",
              "        vertical-align: middle;\n",
              "    }\n",
              "\n",
              "    .dataframe tbody tr th {\n",
              "        vertical-align: top;\n",
              "    }\n",
              "\n",
              "    .dataframe thead th {\n",
              "        text-align: right;\n",
              "    }\n",
              "</style>\n",
              "<table border=\"1\" class=\"dataframe\">\n",
              "  <thead>\n",
              "    <tr style=\"text-align: right;\">\n",
              "      <th></th>\n",
              "      <th>vclass</th>\n",
              "      <th>fuel</th>\n",
              "      <th>energy consumption [MJ/km]</th>\n",
              "      <th>ghg emissions [g/MJ]</th>\n",
              "      <th>ghg fuel upstream [g/MJ]</th>\n",
              "      <th>energy_without_losses_[MJ/km]</th>\n",
              "    </tr>\n",
              "  </thead>\n",
              "  <tbody>\n",
              "    <tr>\n",
              "      <th>0</th>\n",
              "      <td>Medium duty truck</td>\n",
              "      <td>diesel</td>\n",
              "      <td>11.000000</td>\n",
              "      <td>69.5</td>\n",
              "      <td>15.34</td>\n",
              "      <td>11.000</td>\n",
              "    </tr>\n",
              "    <tr>\n",
              "      <th>1</th>\n",
              "      <td>Small diesel vans</td>\n",
              "      <td>diesel</td>\n",
              "      <td>4.900000</td>\n",
              "      <td>69.5</td>\n",
              "      <td>15.34</td>\n",
              "      <td>4.900</td>\n",
              "    </tr>\n",
              "    <tr>\n",
              "      <th>2</th>\n",
              "      <td>Medium duty e-truck</td>\n",
              "      <td>electricity</td>\n",
              "      <td>3.804084</td>\n",
              "      <td>177.0</td>\n",
              "      <td>22.00</td>\n",
              "      <td>3.130</td>\n",
              "    </tr>\n",
              "    <tr>\n",
              "      <th>3</th>\n",
              "      <td>Small electric vans</td>\n",
              "      <td>electricity</td>\n",
              "      <td>1.652893</td>\n",
              "      <td>177.0</td>\n",
              "      <td>22.00</td>\n",
              "      <td>1.360</td>\n",
              "    </tr>\n",
              "    <tr>\n",
              "      <th>4</th>\n",
              "      <td>Electric cargo bicycle</td>\n",
              "      <td>electricity</td>\n",
              "      <td>0.100875</td>\n",
              "      <td>177.0</td>\n",
              "      <td>22.00</td>\n",
              "      <td>0.083</td>\n",
              "    </tr>\n",
              "    <tr>\n",
              "      <th>5</th>\n",
              "      <td>Quad-copter drone</td>\n",
              "      <td>electricity</td>\n",
              "      <td>0.047399</td>\n",
              "      <td>177.0</td>\n",
              "      <td>22.00</td>\n",
              "      <td>0.039</td>\n",
              "    </tr>\n",
              "  </tbody>\n",
              "</table>\n",
              "</div>\n",
              "      <button class=\"colab-df-convert\" onclick=\"convertToInteractive('df-227814d1-1155-46cc-98ef-26fc8731d154')\"\n",
              "              title=\"Convert this dataframe to an interactive table.\"\n",
              "              style=\"display:none;\">\n",
              "        \n",
              "  <svg xmlns=\"http://www.w3.org/2000/svg\" height=\"24px\"viewBox=\"0 0 24 24\"\n",
              "       width=\"24px\">\n",
              "    <path d=\"M0 0h24v24H0V0z\" fill=\"none\"/>\n",
              "    <path d=\"M18.56 5.44l.94 2.06.94-2.06 2.06-.94-2.06-.94-.94-2.06-.94 2.06-2.06.94zm-11 1L8.5 8.5l.94-2.06 2.06-.94-2.06-.94L8.5 2.5l-.94 2.06-2.06.94zm10 10l.94 2.06.94-2.06 2.06-.94-2.06-.94-.94-2.06-.94 2.06-2.06.94z\"/><path d=\"M17.41 7.96l-1.37-1.37c-.4-.4-.92-.59-1.43-.59-.52 0-1.04.2-1.43.59L10.3 9.45l-7.72 7.72c-.78.78-.78 2.05 0 2.83L4 21.41c.39.39.9.59 1.41.59.51 0 1.02-.2 1.41-.59l7.78-7.78 2.81-2.81c.8-.78.8-2.07 0-2.86zM5.41 20L4 18.59l7.72-7.72 1.47 1.35L5.41 20z\"/>\n",
              "  </svg>\n",
              "      </button>\n",
              "      \n",
              "  <style>\n",
              "    .colab-df-container {\n",
              "      display:flex;\n",
              "      flex-wrap:wrap;\n",
              "      gap: 12px;\n",
              "    }\n",
              "\n",
              "    .colab-df-convert {\n",
              "      background-color: #E8F0FE;\n",
              "      border: none;\n",
              "      border-radius: 50%;\n",
              "      cursor: pointer;\n",
              "      display: none;\n",
              "      fill: #1967D2;\n",
              "      height: 32px;\n",
              "      padding: 0 0 0 0;\n",
              "      width: 32px;\n",
              "    }\n",
              "\n",
              "    .colab-df-convert:hover {\n",
              "      background-color: #E2EBFA;\n",
              "      box-shadow: 0px 1px 2px rgba(60, 64, 67, 0.3), 0px 1px 3px 1px rgba(60, 64, 67, 0.15);\n",
              "      fill: #174EA6;\n",
              "    }\n",
              "\n",
              "    [theme=dark] .colab-df-convert {\n",
              "      background-color: #3B4455;\n",
              "      fill: #D2E3FC;\n",
              "    }\n",
              "\n",
              "    [theme=dark] .colab-df-convert:hover {\n",
              "      background-color: #434B5C;\n",
              "      box-shadow: 0px 1px 3px 1px rgba(0, 0, 0, 0.15);\n",
              "      filter: drop-shadow(0px 1px 2px rgba(0, 0, 0, 0.3));\n",
              "      fill: #FFFFFF;\n",
              "    }\n",
              "  </style>\n",
              "\n",
              "      <script>\n",
              "        const buttonEl =\n",
              "          document.querySelector('#df-227814d1-1155-46cc-98ef-26fc8731d154 button.colab-df-convert');\n",
              "        buttonEl.style.display =\n",
              "          google.colab.kernel.accessAllowed ? 'block' : 'none';\n",
              "\n",
              "        async function convertToInteractive(key) {\n",
              "          const element = document.querySelector('#df-227814d1-1155-46cc-98ef-26fc8731d154');\n",
              "          const dataTable =\n",
              "            await google.colab.kernel.invokeFunction('convertToInteractive',\n",
              "                                                     [key], {});\n",
              "          if (!dataTable) return;\n",
              "\n",
              "          const docLinkHtml = 'Like what you see? Visit the ' +\n",
              "            '<a target=\"_blank\" href=https://colab.research.google.com/notebooks/data_table.ipynb>data table notebook</a>'\n",
              "            + ' to learn more about interactive tables.';\n",
              "          element.innerHTML = '';\n",
              "          dataTable['output_type'] = 'display_data';\n",
              "          await google.colab.output.renderOutput(dataTable, element);\n",
              "          const docLink = document.createElement('div');\n",
              "          docLink.innerHTML = docLinkHtml;\n",
              "          element.appendChild(docLink);\n",
              "        }\n",
              "      </script>\n",
              "    </div>\n",
              "  </div>\n",
              "  "
            ]
          },
          "metadata": {},
          "execution_count": 19
        }
      ]
    },
    {
      "cell_type": "code",
      "source": [
        ""
      ],
      "metadata": {
        "id": "LSgAdsxS2zok"
      },
      "execution_count": null,
      "outputs": []
    },
    {
      "cell_type": "code",
      "source": [
        "regions = egrid.Region.copy()\n",
        "ghg_packs_to_drone = pd.DataFrame({\"region\":regions})\n",
        "for i in range(len(v)):\n",
        "    ghg_packs_to_drone[v[i].name] = v[i].ghg_pack_to_drone.values()\n",
        "ghg_packs_to_drone['drone_emissions'] = v[5].ghg_pack.values()\n",
        "ghg_packs_to_drone['drone_emissions_km'] = v[5].total_ghg.values()\n",
        "    "
      ],
      "metadata": {
        "id": "M3WdmtD1VKet"
      },
      "execution_count": null,
      "outputs": []
    },
    {
      "cell_type": "code",
      "source": [
        ""
      ],
      "metadata": {
        "id": "6BbEJkVI6CY1"
      },
      "execution_count": null,
      "outputs": []
    },
    {
      "cell_type": "code",
      "source": [
        "subregions.rename(columns={\"ZipSubregi\":\"region\"}, inplace=True)\n"
      ],
      "metadata": {
        "id": "Z-8MZr5-Vt6F"
      },
      "execution_count": null,
      "outputs": []
    },
    {
      "cell_type": "code",
      "source": [
        "df = pd.merge(subregions, ghg_packs_to_drone, on='region', how='outer')"
      ],
      "metadata": {
        "id": "Y4twUyLNW-hc"
      },
      "execution_count": null,
      "outputs": []
    },
    {
      "cell_type": "code",
      "source": [
        "df_main = df.copy()\n",
        "df_main.drop([0,1,6,7,26],inplace=True)"
      ],
      "metadata": {
        "id": "AOp7erlOW89e"
      },
      "execution_count": null,
      "outputs": []
    },
    {
      "cell_type": "code",
      "source": [
        "print(v[0].__dict__)"
      ],
      "metadata": {
        "colab": {
          "base_uri": "https://localhost:8080/"
        },
        "id": "pur6-YaEsSsL",
        "outputId": "35e57062-a850-4ab6-c910-e54f3b74906e"
      },
      "execution_count": null,
      "outputs": [
        {
          "output_type": "stream",
          "name": "stdout",
          "text": [
            "{'name': 'Medium duty truck', 'consumption': 11.0, 'upstream': 168.74, 'stop_km': 0.7, 'pack_stop': 3, 'pack_km': 2.0999999999999996, 'energy_pack': 5.238095238095239, 'pack_km_low': 1.5, 'pack_km_high': 5.0, 'energy_pack_upper': 7.333333333333333, 'energy_pack_lower': 2.2, 'battery': 0.0, 'fuel_emissions': {'SPNO': 764.5, 'SRMW': 764.5, 'MROW': 764.5, 'RFCW': 764.5, 'HIOA': 764.5, 'RFCM': 764.5, 'PRMS': 764.5, 'NWPP': 764.5, 'RMPA': 764.5, 'MROE': 764.5, 'HIMS': 764.5, 'AKMS': 764.5, 'SRTV': 764.5, 'SPSO': 764.5, 'AZNM': 764.5, 'SRSO': 764.5, 'SRVC': 764.5, 'AKGD': 764.5, 'ERCT': 764.5, 'NYLI': 764.5, 'RFCE': 764.5, 'SRMV': 764.5, 'FRCC': 764.5, 'CAMX': 764.5, 'NYCW': 764.5, 'NEWE': 764.5, 'NYUP': 764.5, 'US': 764.5}, 'total_ghg': {'SPNO': 933.24, 'SRMW': 933.24, 'MROW': 933.24, 'RFCW': 933.24, 'HIOA': 933.24, 'RFCM': 933.24, 'PRMS': 933.24, 'NWPP': 933.24, 'RMPA': 933.24, 'MROE': 933.24, 'HIMS': 933.24, 'AKMS': 933.24, 'SRTV': 933.24, 'SPSO': 933.24, 'AZNM': 933.24, 'SRSO': 933.24, 'SRVC': 933.24, 'AKGD': 933.24, 'ERCT': 933.24, 'NYLI': 933.24, 'RFCE': 933.24, 'SRMV': 933.24, 'FRCC': 933.24, 'CAMX': 933.24, 'NYCW': 933.24, 'NEWE': 933.24, 'NYUP': 933.24, 'US': 933.24}, 'ghg_pack': {'SPNO': 444.4000000000001, 'SRMW': 444.4000000000001, 'MROW': 444.4000000000001, 'RFCW': 444.4000000000001, 'HIOA': 444.4000000000001, 'RFCM': 444.4000000000001, 'PRMS': 444.4000000000001, 'NWPP': 444.4000000000001, 'RMPA': 444.4000000000001, 'MROE': 444.4000000000001, 'HIMS': 444.4000000000001, 'AKMS': 444.4000000000001, 'SRTV': 444.4000000000001, 'SPSO': 444.4000000000001, 'AZNM': 444.4000000000001, 'SRSO': 444.4000000000001, 'SRVC': 444.4000000000001, 'AKGD': 444.4000000000001, 'ERCT': 444.4000000000001, 'NYLI': 444.4000000000001, 'RFCE': 444.4000000000001, 'SRMV': 444.4000000000001, 'FRCC': 444.4000000000001, 'CAMX': 444.4000000000001, 'NYCW': 444.4000000000001, 'NEWE': 444.4000000000001, 'NYUP': 444.4000000000001, 'US': 444.4000000000001}, 'fuel_pack': {'SPNO': 364.0476190476191, 'SRMW': 364.0476190476191, 'MROW': 364.0476190476191, 'RFCW': 364.0476190476191, 'HIOA': 364.0476190476191, 'RFCM': 364.0476190476191, 'PRMS': 364.0476190476191, 'NWPP': 364.0476190476191, 'RMPA': 364.0476190476191, 'MROE': 364.0476190476191, 'HIMS': 364.0476190476191, 'AKMS': 364.0476190476191, 'SRTV': 364.0476190476191, 'SPSO': 364.0476190476191, 'AZNM': 364.0476190476191, 'SRSO': 364.0476190476191, 'SRVC': 364.0476190476191, 'AKGD': 364.0476190476191, 'ERCT': 364.0476190476191, 'NYLI': 364.0476190476191, 'RFCE': 364.0476190476191, 'SRMV': 364.0476190476191, 'FRCC': 364.0476190476191, 'CAMX': 364.0476190476191, 'NYCW': 364.0476190476191, 'NEWE': 364.0476190476191, 'NYUP': 364.0476190476191, 'US': 364.0476190476191}, 'upstream_pack': 80.35238095238097, 'battery_pack': 0.0, 'energy_pack_to_drone': 58.01794871794872, 'ghg_pack_to_drone': {'SPNO': 17.09128317189918, 'SRMW': 17.90813366011365, 'MROW': 18.389477798414028, 'RFCW': 18.392421458391226, 'HIOA': 18.891929142042176, 'RFCM': 19.165057264738916, 'PRMS': 19.723654683289837, 'NWPP': 19.874266496616237, 'RMPA': 19.905050698577437, 'MROE': 20.133714334321834, 'HIMS': 21.074633021474085, 'AKMS': 21.409689470698186, 'SRTV': 21.43165326780293, 'SPSO': 21.432946663736868, 'AZNM': 23.302558851101917, 'SRSO': 23.747197431738073, 'SRVC': 23.921107491155343, 'AKGD': 24.036645433296975, 'ERCT': 24.353259580974804, 'NYLI': 24.970141478860523, 'RFCE': 25.352574086055547, 'SRMV': 27.074662128727844, 'FRCC': 29.679789180392678, 'CAMX': 29.780925327367246, 'NYCW': 30.68138111473631, 'NEWE': 32.86180346351438, 'NYUP': 33.040429691275335, 'US': 22.863019895913045}, 'energy_drone_equivalent': 1.3095238095238098}\n"
          ]
        }
      ]
    },
    {
      "cell_type": "code",
      "source": [
        "fig, ax = plt.subplots(1, figsize=(10, 6))\n",
        "v_compare = 'Medium duty truck'\n",
        "vmin = df[v_compare].min()\n",
        "vmax = df[v_compare].max()\n",
        "palet = \"cividis_r\"\n",
        "df_main.plot(column=v_compare, cmap=palet, linewidth=0.8, ax=ax, edgecolor='0', norm=plt.Normalize(vmin=vmin, vmax=vmax))\n",
        "sm = plt.cm.ScalarMappable(cmap=palet, norm=plt.Normalize(vmin=vmin, vmax=vmax))\n",
        "sm._A = [] #empty array for the data range\n",
        "cbar = fig.colorbar(sm) #add the colorbar to the figure\n",
        "cbar.ax.set_ylabel(\"Packages per km\", fontsize=16)\n",
        "#ax.set_xlabel('Longitude (deg)')\n",
        "#ax.set_ylabel('Latitude (deg)')\n",
        "plt.tick_params(axis='both', which='both',bottom=False, left=False, \n",
        "                labelbottom=False, labelleft=False)\n",
        "#ax.set_title(\"\", fontsize=16)\n",
        "sns.despine(top=True, right=True, bottom=True, left=True)\n",
        "fig.savefig(v_compare + '.pdf')"
      ],
      "metadata": {
        "colab": {
          "base_uri": "https://localhost:8080/",
          "height": 357
        },
        "id": "WsXWbQT6VXS1",
        "outputId": "93da4585-1814-450d-a24c-dc42772efa94"
      },
      "execution_count": null,
      "outputs": [
        {
          "output_type": "display_data",
          "data": {
            "text/plain": [
              "<Figure size 720x432 with 2 Axes>"
            ],
            "image/png": "[encoded data removed]"
          },
          "metadata": {
            "needs_background": "light"
          }
        }
      ]
    },
    {
      "cell_type": "code",
      "source": [
        "ig, ax = plt.subplots(1, figsize=(10, 6))\n",
        "v_compare = 'drone_emissions_km'\n",
        "vmin = df[v_compare].min()\n",
        "vmax = df[v_compare].max()\n",
        "color = \"viridis_r\"\n",
        "df_main.plot(column=v_compare, cmap= color, linewidth=0.8, ax=ax, edgecolor='0', norm=plt.Normalize(vmin=vmin, vmax=vmax))\n",
        "sm = plt.cm.ScalarMappable(cmap=color, norm=plt.Normalize(vmin=vmin, vmax=vmax))\n",
        "sm._A = [] #empty array for the data range\n",
        "cbar = fig.colorbar(sm) #add the colorbar to the figure\n",
        "cbar.ax.set_ylabel(\"gCO₂e/km\", fontsize=16)\n",
        "#ax.set_xlabel('Longitude (deg)')\n",
        "#ax.set_ylabel('Latitude (deg)')\n",
        "plt.tick_params(axis='both', which='both',bottom=False, left=False, \n",
        "                labelbottom=False, labelleft=False)\n",
        "#ax.set_title(\"Drone emissions\", fontsize=16)\n",
        "sns.despine(top=True, right=True, bottom=True, left=True)\n",
        "fig.savefig(v_compare + '.pdf')"
      ],
      "metadata": {
        "colab": {
          "base_uri": "https://localhost:8080/",
          "height": 331
        },
        "id": "Eu4QFUgm7iPc",
        "outputId": "94ab46f5-6a2c-45c2-a51f-4d2266e202f8"
      },
      "execution_count": null,
      "outputs": [
        {
          "output_type": "display_data",
          "data": {
            "text/plain": [
              "<Figure size 720x432 with 1 Axes>"
            ],
            "image/png": "[encoded data removed]"
          },
          "metadata": {}
        }
      ]
    },
    {
      "cell_type": "code",
      "source": [
        "df.columns"
      ],
      "metadata": {
        "colab": {
          "base_uri": "https://localhost:8080/"
        },
        "id": "JE_svUh4VVLt",
        "outputId": "a8954573-9d08-4e18-da2c-b16230241614"
      },
      "execution_count": null,
      "outputs": [
        {
          "output_type": "execute_result",
          "data": {
            "text/plain": [
              "Index(['region', 'Shape_Leng', 'Shape_Le_1', 'Shape_Area', 'geometry',\n",
              "       'Medium duty truck', 'Small diesel van', 'Medium duty electric truck',\n",
              "       'Small electric van', 'Electric cargo bicycle', 'Quad-copter drone',\n",
              "       'drone_emissions', 'drone_emissions_km'],\n",
              "      dtype='object')"
            ]
          },
          "metadata": {},
          "execution_count": 26
        }
      ]
    },
    {
      "cell_type": "code",
      "source": [
        "d = df.drone_emissions_km\n",
        "print(d)\n",
        "print(d.max(), d.min())\n",
        "print((d.max()-d.min())/d.min())"
      ],
      "metadata": {
        "colab": {
          "base_uri": "https://localhost:8080/"
        },
        "id": "qw5PsGPuVffM",
        "outputId": "31f94031-a329-4d93-bf7c-50c33d68c307"
      },
      "execution_count": null,
      "outputs": [
        {
          "output_type": "stream",
          "name": "stdout",
          "text": [
            "0      9.706429\n",
            "1     10.897402\n",
            "2     10.012205\n",
            "3      7.834209\n",
            "4      9.580237\n",
            "5      7.860905\n",
            "6     11.070655\n",
            "7     12.349718\n",
            "8     11.588026\n",
            "9     12.687147\n",
            "10     7.099732\n",
            "11    11.739301\n",
            "12     7.604286\n",
            "13     9.343559\n",
            "14     7.061349\n",
            "15     9.202616\n",
            "16    12.173718\n",
            "17    12.685116\n",
            "18    11.721146\n",
            "19    13.650818\n",
            "20    10.885577\n",
            "21     8.617282\n",
            "22    13.028158\n",
            "23     9.824738\n",
            "24    10.886234\n",
            "25     9.753311\n",
            "26    11.828944\n",
            "Name: drone_emissions_km, dtype: float64\n",
            "13.650818236023333 7.06134884382596\n",
            "0.9331743180991304\n"
          ]
        }
      ]
    },
    {
      "cell_type": "code",
      "source": [
        "df['Medium duty truck'].min(), df['Medium duty truck'].max()"
      ],
      "metadata": {
        "colab": {
          "base_uri": "https://localhost:8080/"
        },
        "id": "mVNwtA2QdpHN",
        "outputId": "67042bea-9cc4-49b0-823b-6390f2c1e9d0"
      },
      "execution_count": null,
      "outputs": [
        {
          "output_type": "execute_result",
          "data": {
            "text/plain": [
              "(17.09128317189918, 33.040429691275335)"
            ]
          },
          "metadata": {},
          "execution_count": 28
        }
      ]
    },
    {
      "cell_type": "code",
      "source": [
        "df[['region', 'ghg_pack']].sort_values(by='drone_emissions_km')"
      ],
      "metadata": {
        "colab": {
          "base_uri": "https://localhost:8080/",
          "height": 310
        },
        "id": "EI3XvqloXPxM",
        "outputId": "f141f6a7-5fca-4d5b-c9f2-1173d4a0250d"
      },
      "execution_count": null,
      "outputs": [
        {
          "output_type": "error",
          "ename": "KeyError",
          "evalue": "ignored",
          "traceback": [
            "\u001b[0;31m---------------------------------------------------------------------------\u001b[0m",
            "\u001b[0;31mKeyError\u001b[0m                                  Traceback (most recent call last)",
            "\u001b[0;32m<ipython-input-32-fa7c37f12a2e>\u001b[0m in \u001b[0;36m<module>\u001b[0;34m()\u001b[0m\n\u001b[0;32m----> 1\u001b[0;31m \u001b[0mdf\u001b[0m\u001b[0;34m[\u001b[0m\u001b[0;34m[\u001b[0m\u001b[0;34m'region'\u001b[0m\u001b[0;34m,\u001b[0m \u001b[0;34m'ghg_pack'\u001b[0m\u001b[0;34m]\u001b[0m\u001b[0;34m]\u001b[0m\u001b[0;34m.\u001b[0m\u001b[0msort_values\u001b[0m\u001b[0;34m(\u001b[0m\u001b[0mby\u001b[0m\u001b[0;34m=\u001b[0m\u001b[0;34m'drone_emissions_km'\u001b[0m\u001b[0;34m)\u001b[0m\u001b[0;34m\u001b[0m\u001b[0;34m\u001b[0m\u001b[0m\n\u001b[0m",
            "\u001b[0;32m/usr/local/lib/python3.7/dist-packages/geopandas/geodataframe.py\u001b[0m in \u001b[0;36m__getitem__\u001b[0;34m(self, key)\u001b[0m\n\u001b[1;32m   1325\u001b[0m         \u001b[0mGeoDataFrame\u001b[0m\u001b[0;34m.\u001b[0m\u001b[0;34m\u001b[0m\u001b[0;34m\u001b[0m\u001b[0m\n\u001b[1;32m   1326\u001b[0m         \"\"\"\n\u001b[0;32m-> 1327\u001b[0;31m         \u001b[0mresult\u001b[0m \u001b[0;34m=\u001b[0m \u001b[0msuper\u001b[0m\u001b[0;34m(\u001b[0m\u001b[0;34m)\u001b[0m\u001b[0;34m.\u001b[0m\u001b[0m__getitem__\u001b[0m\u001b[0;34m(\u001b[0m\u001b[0mkey\u001b[0m\u001b[0;34m)\u001b[0m\u001b[0;34m\u001b[0m\u001b[0;34m\u001b[0m\u001b[0m\n\u001b[0m\u001b[1;32m   1328\u001b[0m         \u001b[0mgeo_col\u001b[0m \u001b[0;34m=\u001b[0m \u001b[0mself\u001b[0m\u001b[0;34m.\u001b[0m\u001b[0m_geometry_column_name\u001b[0m\u001b[0;34m\u001b[0m\u001b[0;34m\u001b[0m\u001b[0m\n\u001b[1;32m   1329\u001b[0m         \u001b[0;32mif\u001b[0m \u001b[0misinstance\u001b[0m\u001b[0;34m(\u001b[0m\u001b[0mresult\u001b[0m\u001b[0;34m,\u001b[0m \u001b[0mSeries\u001b[0m\u001b[0;34m)\u001b[0m \u001b[0;32mand\u001b[0m \u001b[0misinstance\u001b[0m\u001b[0;34m(\u001b[0m\u001b[0mresult\u001b[0m\u001b[0;34m.\u001b[0m\u001b[0mdtype\u001b[0m\u001b[0;34m,\u001b[0m \u001b[0mGeometryDtype\u001b[0m\u001b[0;34m)\u001b[0m\u001b[0;34m:\u001b[0m\u001b[0;34m\u001b[0m\u001b[0;34m\u001b[0m\u001b[0m\n",
            "\u001b[0;32m/usr/local/lib/python3.7/dist-packages/pandas/core/frame.py\u001b[0m in \u001b[0;36m__getitem__\u001b[0;34m(self, key)\u001b[0m\n\u001b[1;32m   3462\u001b[0m             \u001b[0;32mif\u001b[0m \u001b[0mis_iterator\u001b[0m\u001b[0;34m(\u001b[0m\u001b[0mkey\u001b[0m\u001b[0;34m)\u001b[0m\u001b[0;34m:\u001b[0m\u001b[0;34m\u001b[0m\u001b[0;34m\u001b[0m\u001b[0m\n\u001b[1;32m   3463\u001b[0m                 \u001b[0mkey\u001b[0m \u001b[0;34m=\u001b[0m \u001b[0mlist\u001b[0m\u001b[0;34m(\u001b[0m\u001b[0mkey\u001b[0m\u001b[0;34m)\u001b[0m\u001b[0;34m\u001b[0m\u001b[0;34m\u001b[0m\u001b[0m\n\u001b[0;32m-> 3464\u001b[0;31m             \u001b[0mindexer\u001b[0m \u001b[0;34m=\u001b[0m \u001b[0mself\u001b[0m\u001b[0;34m.\u001b[0m\u001b[0mloc\u001b[0m\u001b[0;34m.\u001b[0m\u001b[0m_get_listlike_indexer\u001b[0m\u001b[0;34m(\u001b[0m\u001b[0mkey\u001b[0m\u001b[0;34m,\u001b[0m \u001b[0maxis\u001b[0m\u001b[0;34m=\u001b[0m\u001b[0;36m1\u001b[0m\u001b[0;34m)\u001b[0m\u001b[0;34m[\u001b[0m\u001b[0;36m1\u001b[0m\u001b[0;34m]\u001b[0m\u001b[0;34m\u001b[0m\u001b[0;34m\u001b[0m\u001b[0m\n\u001b[0m\u001b[1;32m   3465\u001b[0m \u001b[0;34m\u001b[0m\u001b[0m\n\u001b[1;32m   3466\u001b[0m         \u001b[0;31m# take() does not accept boolean indexers\u001b[0m\u001b[0;34m\u001b[0m\u001b[0;34m\u001b[0m\u001b[0;34m\u001b[0m\u001b[0m\n",
            "\u001b[0;32m/usr/local/lib/python3.7/dist-packages/pandas/core/indexing.py\u001b[0m in \u001b[0;36m_get_listlike_indexer\u001b[0;34m(self, key, axis)\u001b[0m\n\u001b[1;32m   1312\u001b[0m             \u001b[0mkeyarr\u001b[0m\u001b[0;34m,\u001b[0m \u001b[0mindexer\u001b[0m\u001b[0;34m,\u001b[0m \u001b[0mnew_indexer\u001b[0m \u001b[0;34m=\u001b[0m \u001b[0max\u001b[0m\u001b[0;34m.\u001b[0m\u001b[0m_reindex_non_unique\u001b[0m\u001b[0;34m(\u001b[0m\u001b[0mkeyarr\u001b[0m\u001b[0;34m)\u001b[0m\u001b[0;34m\u001b[0m\u001b[0;34m\u001b[0m\u001b[0m\n\u001b[1;32m   1313\u001b[0m \u001b[0;34m\u001b[0m\u001b[0m\n\u001b[0;32m-> 1314\u001b[0;31m         \u001b[0mself\u001b[0m\u001b[0;34m.\u001b[0m\u001b[0m_validate_read_indexer\u001b[0m\u001b[0;34m(\u001b[0m\u001b[0mkeyarr\u001b[0m\u001b[0;34m,\u001b[0m \u001b[0mindexer\u001b[0m\u001b[0;34m,\u001b[0m \u001b[0maxis\u001b[0m\u001b[0;34m)\u001b[0m\u001b[0;34m\u001b[0m\u001b[0;34m\u001b[0m\u001b[0m\n\u001b[0m\u001b[1;32m   1315\u001b[0m \u001b[0;34m\u001b[0m\u001b[0m\n\u001b[1;32m   1316\u001b[0m         if needs_i8_conversion(ax.dtype) or isinstance(\n",
            "\u001b[0;32m/usr/local/lib/python3.7/dist-packages/pandas/core/indexing.py\u001b[0m in \u001b[0;36m_validate_read_indexer\u001b[0;34m(self, key, indexer, axis)\u001b[0m\n\u001b[1;32m   1375\u001b[0m \u001b[0;34m\u001b[0m\u001b[0m\n\u001b[1;32m   1376\u001b[0m             \u001b[0mnot_found\u001b[0m \u001b[0;34m=\u001b[0m \u001b[0mlist\u001b[0m\u001b[0;34m(\u001b[0m\u001b[0mensure_index\u001b[0m\u001b[0;34m(\u001b[0m\u001b[0mkey\u001b[0m\u001b[0;34m)\u001b[0m\u001b[0;34m[\u001b[0m\u001b[0mmissing_mask\u001b[0m\u001b[0;34m.\u001b[0m\u001b[0mnonzero\u001b[0m\u001b[0;34m(\u001b[0m\u001b[0;34m)\u001b[0m\u001b[0;34m[\u001b[0m\u001b[0;36m0\u001b[0m\u001b[0;34m]\u001b[0m\u001b[0;34m]\u001b[0m\u001b[0;34m.\u001b[0m\u001b[0munique\u001b[0m\u001b[0;34m(\u001b[0m\u001b[0;34m)\u001b[0m\u001b[0;34m)\u001b[0m\u001b[0;34m\u001b[0m\u001b[0;34m\u001b[0m\u001b[0m\n\u001b[0;32m-> 1377\u001b[0;31m             \u001b[0;32mraise\u001b[0m \u001b[0mKeyError\u001b[0m\u001b[0;34m(\u001b[0m\u001b[0;34mf\"{not_found} not in index\"\u001b[0m\u001b[0;34m)\u001b[0m\u001b[0;34m\u001b[0m\u001b[0;34m\u001b[0m\u001b[0m\n\u001b[0m\u001b[1;32m   1378\u001b[0m \u001b[0;34m\u001b[0m\u001b[0m\n\u001b[1;32m   1379\u001b[0m \u001b[0;34m\u001b[0m\u001b[0m\n",
            "\u001b[0;31mKeyError\u001b[0m: \"['ghg_pack'] not in index\""
          ]
        }
      ]
    },
    {
      "cell_type": "code",
      "source": [
        "emissions_vehicles_total = pd.merge(subregions, ghg_packs_to_drone, on='region', how='outer')"
      ],
      "metadata": {
        "id": "aXjfWmArXQME"
      },
      "execution_count": null,
      "outputs": []
    },
    {
      "cell_type": "code",
      "source": [
        ""
      ],
      "metadata": {
        "id": "KbWOVn1u0g0y"
      },
      "execution_count": null,
      "outputs": []
    }
  ]
}